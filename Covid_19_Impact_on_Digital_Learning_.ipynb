{
  "nbformat": 4,
  "nbformat_minor": 0,
  "metadata": {
    "colab": {
      "name": "Covid 19 Impact on Digital Learning .ipynb",
      "provenance": [],
      "authorship_tag": "ABX9TyNUuJkfpg8lpuafkmCfLej2",
      "include_colab_link": true
    },
    "kernelspec": {
      "name": "python3",
      "display_name": "Python 3"
    },
    "language_info": {
      "name": "python"
    }
  },
  "cells": [
    {
      "cell_type": "markdown",
      "metadata": {
        "id": "view-in-github",
        "colab_type": "text"
      },
      "source": [
        "<a href=\"https://colab.research.google.com/github/tramyynt/COVID-19-impact-on-Digital-Learning-/blob/main/Covid_19_Impact_on_Digital_Learning_.ipynb\" target=\"_parent\"><img src=\"https://colab.research.google.com/assets/colab-badge.svg\" alt=\"Open In Colab\"/></a>"
      ]
    },
    {
      "cell_type": "markdown",
      "metadata": {
        "id": "JMmHAbFTwRIE"
      },
      "source": [
        "\n",
        "# **Covid Impact on Digital Learning**:\n",
        "This notebook is to uncover some trends in digital learning."
      ]
    },
    {
      "cell_type": "markdown",
      "metadata": {
        "id": "8f_z4sG32k1s"
      },
      "source": [
        "### **Problem Statement**\n",
        "The COVID-19 Pandemic has disrupted learning for more than 56 million students in the United States. In the Spring of 2020, most states and local governments across the U.S. closed educational institutions to stop the spread of the virus. In response, schools and teachers have attempted to reach students remotely through distance learning tools and digital platforms. Until today, concerns of the exacaberting digital divide and long-term learning loss among America’s most vulnerable learners continue to grow."
      ]
    },
    {
      "cell_type": "markdown",
      "metadata": {
        "id": "4fd_GrtBvbL-"
      },
      "source": [
        "### **What should focus on ?**\n",
        "\n",
        "\n",
        "1.   What is the picture of digital connectivity and engagement in 2020?\n",
        "2.   What is the effect of the COVID-19 pandemic on online and distance learning, and how might this also evolve in the future?\n",
        "3. How does student engagement with different types of education technology change over the course of the pandemic?\n",
        "4. How does student engagement with online learning platforms relate to different geography? Demographic context (e.g., race/ethnicity, ESL, learning disability)? Learning context? Socioeconomic status?\n",
        "5. Do certain state interventions, practices or policies (e.g., stimulus, reopening, eviction moratorium) correlate with the increase or decrease online engagement?\n",
        "\n",
        "\n",
        "\n",
        "\n"
      ]
    },
    {
      "cell_type": "markdown",
      "metadata": {
        "id": "e-dZo_dLxNqT"
      },
      "source": [
        "## Data Preparation\n",
        "\n",
        "\n",
        "1.   Import neccessary libs\n",
        "2.   Get data from Kaggle API \n",
        "\n"
      ]
    },
    {
      "cell_type": "code",
      "metadata": {
        "id": "nQQsR7XWzhjr"
      },
      "source": [
        "import numpy as np \n",
        "import pandas as pd\n",
        "\n",
        "import os\n",
        "import glob\n",
        "import matplotlib.pyplot as plt\n",
        "import seaborn as sns\n",
        "import re\n",
        "\n",
        "import plotly.express as px\n",
        "import plotly.graph_objects as go\n",
        "from plotly.subplots import make_subplots"
      ],
      "execution_count": 52,
      "outputs": []
    },
    {
      "cell_type": "code",
      "metadata": {
        "id": "qYauWMtU7b9j",
        "colab": {
          "base_uri": "https://localhost:8080/"
        },
        "outputId": "478cae43-22b4-44aa-8332-5446e36bc6cd"
      },
      "source": [
        "!pip install -U -q kaggle==1.5.8"
      ],
      "execution_count": 2,
      "outputs": [
        {
          "output_type": "stream",
          "name": "stdout",
          "text": [
            "\u001b[?25l\r\u001b[K     |█████▌                          | 10 kB 21.1 MB/s eta 0:00:01\r\u001b[K     |███████████                     | 20 kB 9.8 MB/s eta 0:00:01\r\u001b[K     |████████████████▋               | 30 kB 8.0 MB/s eta 0:00:01\r\u001b[K     |██████████████████████▏         | 40 kB 7.5 MB/s eta 0:00:01\r\u001b[K     |███████████████████████████▊    | 51 kB 4.0 MB/s eta 0:00:01\r\u001b[K     |████████████████████████████████| 59 kB 2.3 MB/s \n",
            "\u001b[?25h  Building wheel for kaggle (setup.py) ... \u001b[?25l\u001b[?25hdone\n",
            "  Building wheel for slugify (setup.py) ... \u001b[?25l\u001b[?25hdone\n"
          ]
        }
      ]
    },
    {
      "cell_type": "code",
      "metadata": {
        "colab": {
          "base_uri": "https://localhost:8080/"
        },
        "id": "7RqzAk7woqFP",
        "outputId": "d6739523-c658-4548-c7fc-b9f2cc6f78ef"
      },
      "source": [
        "!ls -la /root/"
      ],
      "execution_count": 21,
      "outputs": [
        {
          "output_type": "stream",
          "name": "stdout",
          "text": [
            "total 64\n",
            "drwx------ 1 root root 4096 Sep  4 19:33 .\n",
            "drwxr-xr-x 1 root root 4096 Sep  4 19:33 ..\n",
            "-r-xr-xr-x 1 root root 1169 Jan  1  2000 .bashrc\n",
            "drwxr-xr-x 1 root root 4096 Sep  4 19:27 .cache\n",
            "drwxr-xr-x 1 root root 4096 Sep  2 13:19 .config\n",
            "drwxr-xr-x 3 root root 4096 Sep  1 19:26 .gsutil\n",
            "drwxr-xr-x 5 root root 4096 Sep  2 13:19 .ipython\n",
            "drwx------ 2 root root 4096 Sep  2 13:19 .jupyter\n",
            "-rw-r--r-- 1 root root   66 Sep  4 19:32 .kaggle\n",
            "drwxr-xr-x 2 root root 4096 Sep  4 19:25 .keras\n",
            "drwx------ 1 root root 4096 Sep  2 13:19 .local\n",
            "drwxr-xr-x 4 root root 4096 Sep  2 13:19 .npm\n",
            "-rw-r--r-- 1 root root  148 Aug 17  2015 .profile\n",
            "-r-xr-xr-x 1 root root  254 Jan  1  2000 .tmux.conf\n"
          ]
        }
      ]
    },
    {
      "cell_type": "code",
      "metadata": {
        "id": "WQs5YJxWTZt6"
      },
      "source": [
        "!mkdir /root/.kaggle"
      ],
      "execution_count": 25,
      "outputs": []
    },
    {
      "cell_type": "code",
      "metadata": {
        "id": "75PhHmoE6CW4"
      },
      "source": [
        "# MUST UPLOAD kaggle.json FIRST: download kaggle.json by getting expired token and creating a new API token --> get a latest json file\n",
        "# move kaggle.json to /root/.kaggle\n",
        "!cp /kaggle.json /root/.kaggle\n",
        "!chmod 600 /root/.kaggle/kaggle.json"
      ],
      "execution_count": 27,
      "outputs": []
    },
    {
      "cell_type": "code",
      "metadata": {
        "colab": {
          "base_uri": "https://localhost:8080/"
        },
        "id": "FT8jx2NtAU74",
        "outputId": "a5e7978b-a849-4d12-efad-e99e0790acef"
      },
      "source": [
        "!kaggle competitions download -c \"learnplatform-covid19-impact-on-digital-learning\" "
      ],
      "execution_count": 28,
      "outputs": [
        {
          "output_type": "stream",
          "name": "stdout",
          "text": [
            "Downloading learnplatform-covid19-impact-on-digital-learning.zip to /content\n",
            " 97% 121M/124M [00:00<00:00, 129MB/s]\n",
            "100% 124M/124M [00:00<00:00, 134MB/s]\n"
          ]
        }
      ]
    },
    {
      "cell_type": "code",
      "metadata": {
        "colab": {
          "base_uri": "https://localhost:8080/"
        },
        "id": "YD6qreWuKWDS",
        "outputId": "0b0cf69a-872f-4725-d322-99711d8684df"
      },
      "source": [
        "# unzip data\n",
        "!unzip '*.zip'"
      ],
      "execution_count": 29,
      "outputs": [
        {
          "output_type": "stream",
          "name": "stdout",
          "text": [
            "Archive:  learnplatform-covid19-impact-on-digital-learning.zip\n",
            "  inflating: README.md               \n",
            "  inflating: districts_info.csv      \n",
            "  inflating: engagement_data/1000.csv  \n",
            "  inflating: engagement_data/1039.csv  \n",
            "  inflating: engagement_data/1044.csv  \n",
            "  inflating: engagement_data/1052.csv  \n",
            "  inflating: engagement_data/1131.csv  \n",
            "  inflating: engagement_data/1142.csv  \n",
            "  inflating: engagement_data/1179.csv  \n",
            "  inflating: engagement_data/1204.csv  \n",
            "  inflating: engagement_data/1270.csv  \n",
            "  inflating: engagement_data/1324.csv  \n",
            "  inflating: engagement_data/1444.csv  \n",
            "  inflating: engagement_data/1450.csv  \n",
            "  inflating: engagement_data/1470.csv  \n",
            "  inflating: engagement_data/1536.csv  \n",
            "  inflating: engagement_data/1549.csv  \n",
            "  inflating: engagement_data/1558.csv  \n",
            "  inflating: engagement_data/1570.csv  \n",
            "  inflating: engagement_data/1584.csv  \n",
            "  inflating: engagement_data/1624.csv  \n",
            "  inflating: engagement_data/1705.csv  \n",
            "  inflating: engagement_data/1712.csv  \n",
            "  inflating: engagement_data/1742.csv  \n",
            "  inflating: engagement_data/1772.csv  \n",
            "  inflating: engagement_data/1791.csv  \n",
            "  inflating: engagement_data/1857.csv  \n",
            "  inflating: engagement_data/1877.csv  \n",
            "  inflating: engagement_data/1904.csv  \n",
            "  inflating: engagement_data/1965.csv  \n",
            "  inflating: engagement_data/2017.csv  \n",
            "  inflating: engagement_data/2060.csv  \n",
            "  inflating: engagement_data/2074.csv  \n",
            "  inflating: engagement_data/2106.csv  \n",
            "  inflating: engagement_data/2130.csv  \n",
            "  inflating: engagement_data/2165.csv  \n",
            "  inflating: engagement_data/2167.csv  \n",
            "  inflating: engagement_data/2172.csv  \n",
            "  inflating: engagement_data/2201.csv  \n",
            "  inflating: engagement_data/2209.csv  \n",
            "  inflating: engagement_data/2238.csv  \n",
            "  inflating: engagement_data/2257.csv  \n",
            "  inflating: engagement_data/2285.csv  \n",
            "  inflating: engagement_data/2321.csv  \n",
            "  inflating: engagement_data/2339.csv  \n",
            "  inflating: engagement_data/2393.csv  \n",
            "  inflating: engagement_data/2439.csv  \n",
            "  inflating: engagement_data/2441.csv  \n",
            "  inflating: engagement_data/2517.csv  \n",
            "  inflating: engagement_data/2549.csv  \n",
            "  inflating: engagement_data/2567.csv  \n",
            "  inflating: engagement_data/2598.csv  \n",
            "  inflating: engagement_data/2601.csv  \n",
            "  inflating: engagement_data/2685.csv  \n",
            "  inflating: engagement_data/2729.csv  \n",
            "  inflating: engagement_data/2779.csv  \n",
            "  inflating: engagement_data/2870.csv  \n",
            "  inflating: engagement_data/2872.csv  \n",
            "  inflating: engagement_data/2940.csv  \n",
            "  inflating: engagement_data/2956.csv  \n",
            "  inflating: engagement_data/2991.csv  \n",
            "  inflating: engagement_data/3080.csv  \n",
            "  inflating: engagement_data/3160.csv  \n",
            "  inflating: engagement_data/3188.csv  \n",
            "  inflating: engagement_data/3222.csv  \n",
            "  inflating: engagement_data/3228.csv  \n",
            "  inflating: engagement_data/3248.csv  \n",
            "  inflating: engagement_data/3266.csv  \n",
            "  inflating: engagement_data/3301.csv  \n",
            "  inflating: engagement_data/3314.csv  \n",
            "  inflating: engagement_data/3322.csv  \n",
            "  inflating: engagement_data/3371.csv  \n",
            "  inflating: engagement_data/3390.csv  \n",
            "  inflating: engagement_data/3393.csv  \n",
            "  inflating: engagement_data/3412.csv  \n",
            "  inflating: engagement_data/3471.csv  \n",
            "  inflating: engagement_data/3550.csv  \n",
            "  inflating: engagement_data/3558.csv  \n",
            "  inflating: engagement_data/3580.csv  \n",
            "  inflating: engagement_data/3640.csv  \n",
            "  inflating: engagement_data/3668.csv  \n",
            "  inflating: engagement_data/3670.csv  \n",
            "  inflating: engagement_data/3692.csv  \n",
            "  inflating: engagement_data/3710.csv  \n",
            "  inflating: engagement_data/3732.csv  \n",
            "  inflating: engagement_data/3772.csv  \n",
            "  inflating: engagement_data/3864.csv  \n",
            "  inflating: engagement_data/3936.csv  \n",
            "  inflating: engagement_data/3959.csv  \n",
            "  inflating: engagement_data/3986.csv  \n",
            "  inflating: engagement_data/4029.csv  \n",
            "  inflating: engagement_data/4031.csv  \n",
            "  inflating: engagement_data/4051.csv  \n",
            "  inflating: engagement_data/4083.csv  \n",
            "  inflating: engagement_data/4165.csv  \n",
            "  inflating: engagement_data/4183.csv  \n",
            "  inflating: engagement_data/4203.csv  \n",
            "  inflating: engagement_data/4314.csv  \n",
            "  inflating: engagement_data/4348.csv  \n",
            "  inflating: engagement_data/4373.csv  \n",
            "  inflating: engagement_data/4408.csv  \n",
            "  inflating: engagement_data/4516.csv  \n",
            "  inflating: engagement_data/4520.csv  \n",
            "  inflating: engagement_data/4550.csv  \n",
            "  inflating: engagement_data/4569.csv  \n",
            "  inflating: engagement_data/4591.csv  \n",
            "  inflating: engagement_data/4602.csv  \n",
            "  inflating: engagement_data/4629.csv  \n",
            "  inflating: engagement_data/4666.csv  \n",
            "  inflating: engagement_data/4668.csv  \n",
            "  inflating: engagement_data/4683.csv  \n",
            "  inflating: engagement_data/4744.csv  \n",
            "  inflating: engagement_data/4749.csv  \n",
            "  inflating: engagement_data/4775.csv  \n",
            "  inflating: engagement_data/4808.csv  \n",
            "  inflating: engagement_data/4921.csv  \n",
            "  inflating: engagement_data/4929.csv  \n",
            "  inflating: engagement_data/4936.csv  \n",
            "  inflating: engagement_data/4937.csv  \n",
            "  inflating: engagement_data/4949.csv  \n",
            "  inflating: engagement_data/5006.csv  \n",
            "  inflating: engagement_data/5042.csv  \n",
            "  inflating: engagement_data/5057.csv  \n",
            "  inflating: engagement_data/5150.csv  \n",
            "  inflating: engagement_data/5231.csv  \n",
            "  inflating: engagement_data/5257.csv  \n",
            "  inflating: engagement_data/5380.csv  \n",
            "  inflating: engagement_data/5404.csv  \n",
            "  inflating: engagement_data/5422.csv  \n",
            "  inflating: engagement_data/5479.csv  \n",
            "  inflating: engagement_data/5510.csv  \n",
            "  inflating: engagement_data/5524.csv  \n",
            "  inflating: engagement_data/5527.csv  \n",
            "  inflating: engagement_data/5600.csv  \n",
            "  inflating: engagement_data/5604.csv  \n",
            "  inflating: engagement_data/5627.csv  \n",
            "  inflating: engagement_data/5802.csv  \n",
            "  inflating: engagement_data/5882.csv  \n",
            "  inflating: engagement_data/5890.csv  \n",
            "  inflating: engagement_data/5903.csv  \n",
            "  inflating: engagement_data/5934.csv  \n",
            "  inflating: engagement_data/5970.csv  \n",
            "  inflating: engagement_data/5987.csv  \n",
            "  inflating: engagement_data/6046.csv  \n",
            "  inflating: engagement_data/6049.csv  \n",
            "  inflating: engagement_data/6055.csv  \n",
            "  inflating: engagement_data/6066.csv  \n",
            "  inflating: engagement_data/6104.csv  \n",
            "  inflating: engagement_data/6131.csv  \n",
            "  inflating: engagement_data/6144.csv  \n",
            "  inflating: engagement_data/6165.csv  \n",
            "  inflating: engagement_data/6194.csv  \n",
            "  inflating: engagement_data/6250.csv  \n",
            "  inflating: engagement_data/6345.csv  \n",
            "  inflating: engagement_data/6418.csv  \n",
            "  inflating: engagement_data/6512.csv  \n",
            "  inflating: engagement_data/6577.csv  \n",
            "  inflating: engagement_data/6584.csv  \n",
            "  inflating: engagement_data/6640.csv  \n",
            "  inflating: engagement_data/6665.csv  \n",
            "  inflating: engagement_data/6721.csv  \n",
            "  inflating: engagement_data/6762.csv  \n",
            "  inflating: engagement_data/6774.csv  \n",
            "  inflating: engagement_data/6919.csv  \n",
            "  inflating: engagement_data/6998.csv  \n",
            "  inflating: engagement_data/7086.csv  \n",
            "  inflating: engagement_data/7164.csv  \n",
            "  inflating: engagement_data/7177.csv  \n",
            "  inflating: engagement_data/7305.csv  \n",
            "  inflating: engagement_data/7308.csv  \n",
            "  inflating: engagement_data/7342.csv  \n",
            "  inflating: engagement_data/7352.csv  \n",
            "  inflating: engagement_data/7387.csv  \n",
            "  inflating: engagement_data/7457.csv  \n",
            "  inflating: engagement_data/7541.csv  \n",
            "  inflating: engagement_data/7614.csv  \n",
            "  inflating: engagement_data/7660.csv  \n",
            "  inflating: engagement_data/7675.csv  \n",
            "  inflating: engagement_data/7723.csv  \n",
            "  inflating: engagement_data/7741.csv  \n",
            "  inflating: engagement_data/7752.csv  \n",
            "  inflating: engagement_data/7767.csv  \n",
            "  inflating: engagement_data/7785.csv  \n",
            "  inflating: engagement_data/7798.csv  \n",
            "  inflating: engagement_data/7829.csv  \n",
            "  inflating: engagement_data/7858.csv  \n",
            "  inflating: engagement_data/7964.csv  \n",
            "  inflating: engagement_data/7970.csv  \n",
            "  inflating: engagement_data/7975.csv  \n",
            "  inflating: engagement_data/7980.csv  \n",
            "  inflating: engagement_data/8017.csv  \n",
            "  inflating: engagement_data/8076.csv  \n",
            "  inflating: engagement_data/8103.csv  \n",
            "  inflating: engagement_data/8127.csv  \n",
            "  inflating: engagement_data/8160.csv  \n",
            "  inflating: engagement_data/8184.csv  \n",
            "  inflating: engagement_data/8256.csv  \n",
            "  inflating: engagement_data/8328.csv  \n",
            "  inflating: engagement_data/8425.csv  \n",
            "  inflating: engagement_data/8433.csv  \n",
            "  inflating: engagement_data/8515.csv  \n",
            "  inflating: engagement_data/8520.csv  \n",
            "  inflating: engagement_data/8539.csv  \n",
            "  inflating: engagement_data/8556.csv  \n",
            "  inflating: engagement_data/8685.csv  \n",
            "  inflating: engagement_data/8702.csv  \n",
            "  inflating: engagement_data/8723.csv  \n",
            "  inflating: engagement_data/8748.csv  \n",
            "  inflating: engagement_data/8784.csv  \n",
            "  inflating: engagement_data/8796.csv  \n",
            "  inflating: engagement_data/8815.csv  \n",
            "  inflating: engagement_data/8845.csv  \n",
            "  inflating: engagement_data/8884.csv  \n",
            "  inflating: engagement_data/8902.csv  \n",
            "  inflating: engagement_data/8937.csv  \n",
            "  inflating: engagement_data/9007.csv  \n",
            "  inflating: engagement_data/9043.csv  \n",
            "  inflating: engagement_data/9120.csv  \n",
            "  inflating: engagement_data/9140.csv  \n",
            "  inflating: engagement_data/9230.csv  \n",
            "  inflating: engagement_data/9303.csv  \n",
            "  inflating: engagement_data/9357.csv  \n",
            "  inflating: engagement_data/9463.csv  \n",
            "  inflating: engagement_data/9478.csv  \n",
            "  inflating: engagement_data/9515.csv  \n",
            "  inflating: engagement_data/9536.csv  \n",
            "  inflating: engagement_data/9537.csv  \n",
            "  inflating: engagement_data/9553.csv  \n",
            "  inflating: engagement_data/9589.csv  \n",
            "  inflating: engagement_data/9729.csv  \n",
            "  inflating: engagement_data/9778.csv  \n",
            "  inflating: engagement_data/9812.csv  \n",
            "  inflating: engagement_data/9839.csv  \n",
            "  inflating: engagement_data/9899.csv  \n",
            "  inflating: engagement_data/9927.csv  \n",
            "  inflating: products_info.csv       \n"
          ]
        }
      ]
    },
    {
      "cell_type": "code",
      "metadata": {
        "id": "I7rQj2MdMsIY"
      },
      "source": [
        "# get file name and assign to a new column district_id\n",
        "files = glob.glob(\"engagement_data/*.csv\")\n",
        "list_of_df = [pd.read_csv(file).assign(district_id=os.path.basename(file).strip(\".csv\")) for file in files] \n",
        "#list_of_df = [pd.read_csv(file) for file in files]"
      ],
      "execution_count": 30,
      "outputs": []
    },
    {
      "cell_type": "code",
      "metadata": {
        "id": "ZXFM3EycTjLH"
      },
      "source": [
        "engagement = pd.concat(list_of_df, ignore_index= True)"
      ],
      "execution_count": 31,
      "outputs": []
    },
    {
      "cell_type": "code",
      "metadata": {
        "id": "tY7F2DCITqqo"
      },
      "source": [
        "engagement.shape"
      ],
      "execution_count": null,
      "outputs": []
    },
    {
      "cell_type": "code",
      "metadata": {
        "id": "9p3RHQWZ9_Qp"
      },
      "source": [
        "engagement.head(5)"
      ],
      "execution_count": null,
      "outputs": []
    },
    {
      "cell_type": "code",
      "metadata": {
        "id": "90IgmicWVh9I"
      },
      "source": [
        "districts = pd.read_csv(\"districts_info.csv\")\n",
        "products = pd.read_csv(\"products_info.csv\")"
      ],
      "execution_count": 97,
      "outputs": []
    },
    {
      "cell_type": "code",
      "metadata": {
        "id": "4tFd-ysjz1w8"
      },
      "source": [
        "print(districts.shape)\n",
        "print(products.shape)"
      ],
      "execution_count": null,
      "outputs": []
    },
    {
      "cell_type": "code",
      "metadata": {
        "id": "hhpZmYRh07J_"
      },
      "source": [
        "districts.head(5)"
      ],
      "execution_count": null,
      "outputs": []
    },
    {
      "cell_type": "code",
      "metadata": {
        "id": "PbRrDhRE1LKt"
      },
      "source": [
        "products.head(5)"
      ],
      "execution_count": null,
      "outputs": []
    },
    {
      "cell_type": "markdown",
      "metadata": {
        "id": "NU4iDLsmA0bg"
      },
      "source": [
        "## Data cleaning and Preprocessing\n",
        "\n",
        "\n",
        "1.   Work with missing values\n",
        "2.   Get dummies sectors \n",
        "\n",
        "\n"
      ]
    },
    {
      "cell_type": "code",
      "metadata": {
        "id": "bs4V5H_HC3XK"
      },
      "source": [
        "print(districts.info())\n",
        "print(engagement.info())\n",
        "print(products.info())"
      ],
      "execution_count": null,
      "outputs": []
    },
    {
      "cell_type": "code",
      "metadata": {
        "id": "ixV199aKy2pm"
      },
      "source": [
        "#work with missing values in districts\n",
        "districts.isnull().sum()/len(districts)\n",
        "districts = districts[districts.state.notna()].reset_index(drop=True)"
      ],
      "execution_count": 98,
      "outputs": []
    },
    {
      "cell_type": "code",
      "metadata": {
        "id": "cBjW-lqQDXsy"
      },
      "source": [
        "# convert datetime type, district_id to int64 (same as districts)\n",
        "engagement['time'] = pd.to_datetime(engagement['time'])\n",
        "engagement['district_id']= engagement['district_id'].astype(str).astype(int)"
      ],
      "execution_count": 86,
      "outputs": []
    },
    {
      "cell_type": "code",
      "metadata": {
        "id": "Xn3p_l5SB8Il"
      },
      "source": [
        "# get dummies sector for products.\n",
        "sectors = products['Sector(s)'].str.get_dummies(sep=\"; \")\n",
        "sectors.columns = [f\"sector_{re.sub(' ', '', c)}\" for c in sectors.columns]\n",
        "products = products.join(sectors)\n",
        "products.drop(\"Sector(s)\", axis=1, inplace=True)\n",
        "\n",
        "del sectors"
      ],
      "execution_count": 99,
      "outputs": []
    },
    {
      "cell_type": "markdown",
      "metadata": {
        "id": "D3u4bhjlOL8J"
      },
      "source": [
        "## **Exploratory Data Analysis**"
      ]
    },
    {
      "cell_type": "markdown",
      "metadata": {
        "id": "BM4kp42bOXNB"
      },
      "source": [
        "### 1. Districts\n",
        "The district file districts_info.csv includes information about the characteristics of school districts, including data from NCES (2018-19), FCC (Dec 2018), and Edunomics Lab. In this data set, we removed the identifiable information about the school districts. We also used an open source tool ARX (Prasser et al. 2020) to transform several data fields and reduce the risks of re-identification. For data generalization purposes some data points are released with a range where the actual value falls under. Additionally, there are many missing data marked as 'NaN' indicating that the data was suppressed to maximize anonymization of the dataset.\n"
      ]
    },
    {
      "cell_type": "code",
      "metadata": {
        "id": "14VLPtLNOVkY"
      },
      "source": [
        "districts.tail(5)"
      ],
      "execution_count": null,
      "outputs": []
    },
    {
      "cell_type": "markdown",
      "metadata": {
        "id": "spCAVCgabD9Y"
      },
      "source": [
        "**Number of school districts per state**"
      ]
    },
    {
      "cell_type": "code",
      "metadata": {
        "colab": {
          "base_uri": "https://localhost:8080/",
          "height": 762
        },
        "id": "o40rx9c4bZT4",
        "outputId": "840e79a7-ee9b-40c7-c5d8-3ff9f8db355a"
      },
      "source": [
        "districts_by_state = districts['state'].value_counts().to_frame().reset_index(drop=False)\n",
        "districts_by_state.columns = ['state','count_districts']\n",
        "districts_by_state"
      ],
      "execution_count": 100,
      "outputs": [
        {
          "output_type": "execute_result",
          "data": {
            "text/html": [
              "<div>\n",
              "<style scoped>\n",
              "    .dataframe tbody tr th:only-of-type {\n",
              "        vertical-align: middle;\n",
              "    }\n",
              "\n",
              "    .dataframe tbody tr th {\n",
              "        vertical-align: top;\n",
              "    }\n",
              "\n",
              "    .dataframe thead th {\n",
              "        text-align: right;\n",
              "    }\n",
              "</style>\n",
              "<table border=\"1\" class=\"dataframe\">\n",
              "  <thead>\n",
              "    <tr style=\"text-align: right;\">\n",
              "      <th></th>\n",
              "      <th>state</th>\n",
              "      <th>count_districts</th>\n",
              "    </tr>\n",
              "  </thead>\n",
              "  <tbody>\n",
              "    <tr>\n",
              "      <th>0</th>\n",
              "      <td>Connecticut</td>\n",
              "      <td>30</td>\n",
              "    </tr>\n",
              "    <tr>\n",
              "      <th>1</th>\n",
              "      <td>Utah</td>\n",
              "      <td>29</td>\n",
              "    </tr>\n",
              "    <tr>\n",
              "      <th>2</th>\n",
              "      <td>Massachusetts</td>\n",
              "      <td>21</td>\n",
              "    </tr>\n",
              "    <tr>\n",
              "      <th>3</th>\n",
              "      <td>Illinois</td>\n",
              "      <td>18</td>\n",
              "    </tr>\n",
              "    <tr>\n",
              "      <th>4</th>\n",
              "      <td>California</td>\n",
              "      <td>12</td>\n",
              "    </tr>\n",
              "    <tr>\n",
              "      <th>5</th>\n",
              "      <td>Ohio</td>\n",
              "      <td>11</td>\n",
              "    </tr>\n",
              "    <tr>\n",
              "      <th>6</th>\n",
              "      <td>New York</td>\n",
              "      <td>8</td>\n",
              "    </tr>\n",
              "    <tr>\n",
              "      <th>7</th>\n",
              "      <td>Indiana</td>\n",
              "      <td>7</td>\n",
              "    </tr>\n",
              "    <tr>\n",
              "      <th>8</th>\n",
              "      <td>Washington</td>\n",
              "      <td>6</td>\n",
              "    </tr>\n",
              "    <tr>\n",
              "      <th>9</th>\n",
              "      <td>Missouri</td>\n",
              "      <td>6</td>\n",
              "    </tr>\n",
              "    <tr>\n",
              "      <th>10</th>\n",
              "      <td>Virginia</td>\n",
              "      <td>4</td>\n",
              "    </tr>\n",
              "    <tr>\n",
              "      <th>11</th>\n",
              "      <td>North Carolina</td>\n",
              "      <td>4</td>\n",
              "    </tr>\n",
              "    <tr>\n",
              "      <th>12</th>\n",
              "      <td>District Of Columbia</td>\n",
              "      <td>3</td>\n",
              "    </tr>\n",
              "    <tr>\n",
              "      <th>13</th>\n",
              "      <td>Wisconsin</td>\n",
              "      <td>3</td>\n",
              "    </tr>\n",
              "    <tr>\n",
              "      <th>14</th>\n",
              "      <td>New Jersey</td>\n",
              "      <td>2</td>\n",
              "    </tr>\n",
              "    <tr>\n",
              "      <th>15</th>\n",
              "      <td>Texas</td>\n",
              "      <td>2</td>\n",
              "    </tr>\n",
              "    <tr>\n",
              "      <th>16</th>\n",
              "      <td>Michigan</td>\n",
              "      <td>2</td>\n",
              "    </tr>\n",
              "    <tr>\n",
              "      <th>17</th>\n",
              "      <td>New Hampshire</td>\n",
              "      <td>2</td>\n",
              "    </tr>\n",
              "    <tr>\n",
              "      <th>18</th>\n",
              "      <td>Tennessee</td>\n",
              "      <td>2</td>\n",
              "    </tr>\n",
              "    <tr>\n",
              "      <th>19</th>\n",
              "      <td>Florida</td>\n",
              "      <td>1</td>\n",
              "    </tr>\n",
              "    <tr>\n",
              "      <th>20</th>\n",
              "      <td>North Dakota</td>\n",
              "      <td>1</td>\n",
              "    </tr>\n",
              "    <tr>\n",
              "      <th>21</th>\n",
              "      <td>Minnesota</td>\n",
              "      <td>1</td>\n",
              "    </tr>\n",
              "    <tr>\n",
              "      <th>22</th>\n",
              "      <td>Arizona</td>\n",
              "      <td>1</td>\n",
              "    </tr>\n",
              "  </tbody>\n",
              "</table>\n",
              "</div>"
            ],
            "text/plain": [
              "                   state  count_districts\n",
              "0            Connecticut               30\n",
              "1                   Utah               29\n",
              "2          Massachusetts               21\n",
              "3               Illinois               18\n",
              "4             California               12\n",
              "5                   Ohio               11\n",
              "6               New York                8\n",
              "7                Indiana                7\n",
              "8             Washington                6\n",
              "9               Missouri                6\n",
              "10              Virginia                4\n",
              "11        North Carolina                4\n",
              "12  District Of Columbia                3\n",
              "13             Wisconsin                3\n",
              "14            New Jersey                2\n",
              "15                 Texas                2\n",
              "16              Michigan                2\n",
              "17         New Hampshire                2\n",
              "18             Tennessee                2\n",
              "19               Florida                1\n",
              "20          North Dakota                1\n",
              "21             Minnesota                1\n",
              "22               Arizona                1"
            ]
          },
          "metadata": {},
          "execution_count": 100
        }
      ]
    },
    {
      "cell_type": "code",
      "metadata": {
        "colab": {
          "base_uri": "https://localhost:8080/",
          "height": 542
        },
        "id": "0fY0QcZ4jZ2Z",
        "outputId": "cd3cb53a-66da-4293-c4d3-953fef276681"
      },
      "source": [
        "#using built-in United States Choropleth Map\n",
        "us_state = {\n",
        "    'Alabama': 'AL',\n",
        "    'Alaska': 'AK',\n",
        "    'American Samoa': 'AS',\n",
        "    'Arizona': 'AZ',\n",
        "    'Arkansas': 'AR',\n",
        "    'California': 'CA',\n",
        "    'Colorado': 'CO',\n",
        "    'Connecticut': 'CT',\n",
        "    'Delaware': 'DE',\n",
        "    'District Of Columbia': 'DC',\n",
        "    'Florida': 'FL',\n",
        "    'Georgia': 'GA',\n",
        "    'Guam': 'GU',\n",
        "    'Hawaii': 'HI',\n",
        "    'Idaho': 'ID',\n",
        "    'Illinois': 'IL',\n",
        "    'Indiana': 'IN',\n",
        "    'Iowa': 'IA',\n",
        "    'Kansas': 'KS',\n",
        "    'Kentucky': 'KY',\n",
        "    'Louisiana': 'LA',\n",
        "    'Maine': 'ME',\n",
        "    'Maryland': 'MD',\n",
        "    'Massachusetts': 'MA',\n",
        "    'Michigan': 'MI',\n",
        "    'Minnesota': 'MN',\n",
        "    'Mississippi': 'MS',\n",
        "    'Missouri': 'MO',\n",
        "    'Montana': 'MT',\n",
        "    'Nebraska': 'NE',\n",
        "    'Nevada': 'NV',\n",
        "    'New Hampshire': 'NH',\n",
        "    'New Jersey': 'NJ',\n",
        "    'New Mexico': 'NM',\n",
        "    'New York': 'NY',\n",
        "    'North Carolina': 'NC',\n",
        "    'North Dakota': 'ND',\n",
        "    'Northern Mariana Islands':'MP',\n",
        "    'Ohio': 'OH',\n",
        "    'Oklahoma': 'OK',\n",
        "    'Oregon': 'OR',\n",
        "    'Pennsylvania': 'PA',\n",
        "    'Puerto Rico': 'PR',\n",
        "    'Rhode Island': 'RI',\n",
        "    'South Carolina': 'SC',\n",
        "    'South Dakota': 'SD',\n",
        "    'Tennessee': 'TN',\n",
        "    'Texas': 'TX',\n",
        "    'Utah': 'UT',\n",
        "    'Vermont': 'VT',\n",
        "    'Virgin Islands': 'VI',\n",
        "    'Virginia': 'VA',\n",
        "    'Washington': 'WA',\n",
        "    'West Virginia': 'WV',\n",
        "    'Wisconsin': 'WI',\n",
        "    'Wyoming': 'WY'\n",
        "}\n",
        "districts_by_state['state_abbrev'] = districts_by_state['state'].replace(us_state) #https://stackoverflow.com/questions/40075106/replace-values-in-pandas-series-with-dictionary\n",
        "fig = go.Figure()\n",
        "layout = dict(\n",
        "    title_text = \"Number of School Districts per State\",\n",
        "    geo_scope='usa',\n",
        ")\n",
        "\n",
        "fig.add_trace(\n",
        "    go.Choropleth(\n",
        "        locations=districts_by_state.state_abbrev,\n",
        "        zmax=1,\n",
        "        z = districts_by_state.count_districts,\n",
        "        locationmode = 'USA-states',\n",
        "        marker_line_color='white',\n",
        "        geo='geo',\n",
        "        colorscale = 'BuPu', \n",
        "    )\n",
        ")\n",
        "            \n",
        "fig.update_layout(layout)   \n",
        "fig.show()\n"
      ],
      "execution_count": 101,
      "outputs": [
        {
          "output_type": "display_data",
          "data": {
            "text/html": [
              "<html>\n",
              "<head><meta charset=\"utf-8\" /></head>\n",
              "<body>\n",
              "    <div>\n",
              "            <script src=\"https://cdnjs.cloudflare.com/ajax/libs/mathjax/2.7.5/MathJax.js?config=TeX-AMS-MML_SVG\"></script><script type=\"text/javascript\">if (window.MathJax) {MathJax.Hub.Config({SVG: {font: \"STIX-Web\"}});}</script>\n",
              "                <script type=\"text/javascript\">window.PlotlyConfig = {MathJaxConfig: 'local'};</script>\n",
              "        <script src=\"https://cdn.plot.ly/plotly-latest.min.js\"></script>    \n",
              "            <div id=\"669e4211-b2f0-49d0-923f-35cb6d89c99f\" class=\"plotly-graph-div\" style=\"height:525px; width:100%;\"></div>\n",
              "            <script type=\"text/javascript\">\n",
              "                \n",
              "                    window.PLOTLYENV=window.PLOTLYENV || {};\n",
              "                    \n",
              "                if (document.getElementById(\"669e4211-b2f0-49d0-923f-35cb6d89c99f\")) {\n",
              "                    Plotly.newPlot(\n",
              "                        '669e4211-b2f0-49d0-923f-35cb6d89c99f',\n",
              "                        [{\"colorscale\": [[0.0, \"rgb(247,252,253)\"], [0.125, \"rgb(224,236,244)\"], [0.25, \"rgb(191,211,230)\"], [0.375, \"rgb(158,188,218)\"], [0.5, \"rgb(140,150,198)\"], [0.625, \"rgb(140,107,177)\"], [0.75, \"rgb(136,65,157)\"], [0.875, \"rgb(129,15,124)\"], [1.0, \"rgb(77,0,75)\"]], \"geo\": \"geo\", \"locationmode\": \"USA-states\", \"locations\": [\"CT\", \"UT\", \"MA\", \"IL\", \"CA\", \"OH\", \"NY\", \"IN\", \"WA\", \"MO\", \"VA\", \"NC\", \"DC\", \"WI\", \"NJ\", \"TX\", \"MI\", \"NH\", \"TN\", \"FL\", \"ND\", \"MN\", \"AZ\"], \"marker\": {\"line\": {\"color\": \"white\"}}, \"type\": \"choropleth\", \"z\": [30, 29, 21, 18, 12, 11, 8, 7, 6, 6, 4, 4, 3, 3, 2, 2, 2, 2, 2, 1, 1, 1, 1], \"zmax\": 1}],\n",
              "                        {\"geo\": {\"scope\": \"usa\"}, \"template\": {\"data\": {\"bar\": [{\"error_x\": {\"color\": \"#2a3f5f\"}, \"error_y\": {\"color\": \"#2a3f5f\"}, \"marker\": {\"line\": {\"color\": \"#E5ECF6\", \"width\": 0.5}}, \"type\": \"bar\"}], \"barpolar\": [{\"marker\": {\"line\": {\"color\": \"#E5ECF6\", \"width\": 0.5}}, \"type\": \"barpolar\"}], \"carpet\": [{\"aaxis\": {\"endlinecolor\": \"#2a3f5f\", \"gridcolor\": \"white\", \"linecolor\": \"white\", \"minorgridcolor\": \"white\", \"startlinecolor\": \"#2a3f5f\"}, \"baxis\": {\"endlinecolor\": \"#2a3f5f\", \"gridcolor\": \"white\", \"linecolor\": \"white\", \"minorgridcolor\": \"white\", \"startlinecolor\": \"#2a3f5f\"}, \"type\": \"carpet\"}], \"choropleth\": [{\"colorbar\": {\"outlinewidth\": 0, \"ticks\": \"\"}, \"type\": \"choropleth\"}], \"contour\": [{\"colorbar\": {\"outlinewidth\": 0, \"ticks\": \"\"}, \"colorscale\": [[0.0, \"#0d0887\"], [0.1111111111111111, \"#46039f\"], [0.2222222222222222, \"#7201a8\"], [0.3333333333333333, \"#9c179e\"], [0.4444444444444444, \"#bd3786\"], [0.5555555555555556, \"#d8576b\"], [0.6666666666666666, \"#ed7953\"], [0.7777777777777778, \"#fb9f3a\"], [0.8888888888888888, \"#fdca26\"], [1.0, \"#f0f921\"]], \"type\": \"contour\"}], \"contourcarpet\": [{\"colorbar\": {\"outlinewidth\": 0, \"ticks\": \"\"}, \"type\": \"contourcarpet\"}], \"heatmap\": [{\"colorbar\": {\"outlinewidth\": 0, \"ticks\": \"\"}, \"colorscale\": [[0.0, \"#0d0887\"], [0.1111111111111111, \"#46039f\"], [0.2222222222222222, \"#7201a8\"], [0.3333333333333333, \"#9c179e\"], [0.4444444444444444, \"#bd3786\"], [0.5555555555555556, \"#d8576b\"], [0.6666666666666666, \"#ed7953\"], [0.7777777777777778, \"#fb9f3a\"], [0.8888888888888888, \"#fdca26\"], [1.0, \"#f0f921\"]], \"type\": \"heatmap\"}], \"heatmapgl\": [{\"colorbar\": {\"outlinewidth\": 0, \"ticks\": \"\"}, \"colorscale\": [[0.0, \"#0d0887\"], [0.1111111111111111, \"#46039f\"], [0.2222222222222222, \"#7201a8\"], [0.3333333333333333, \"#9c179e\"], [0.4444444444444444, \"#bd3786\"], [0.5555555555555556, \"#d8576b\"], [0.6666666666666666, \"#ed7953\"], [0.7777777777777778, \"#fb9f3a\"], [0.8888888888888888, \"#fdca26\"], [1.0, \"#f0f921\"]], \"type\": \"heatmapgl\"}], \"histogram\": [{\"marker\": {\"colorbar\": {\"outlinewidth\": 0, \"ticks\": \"\"}}, \"type\": \"histogram\"}], \"histogram2d\": [{\"colorbar\": {\"outlinewidth\": 0, \"ticks\": \"\"}, \"colorscale\": [[0.0, \"#0d0887\"], [0.1111111111111111, \"#46039f\"], [0.2222222222222222, \"#7201a8\"], [0.3333333333333333, \"#9c179e\"], [0.4444444444444444, \"#bd3786\"], [0.5555555555555556, \"#d8576b\"], [0.6666666666666666, \"#ed7953\"], [0.7777777777777778, \"#fb9f3a\"], [0.8888888888888888, \"#fdca26\"], [1.0, \"#f0f921\"]], \"type\": \"histogram2d\"}], \"histogram2dcontour\": [{\"colorbar\": {\"outlinewidth\": 0, \"ticks\": \"\"}, \"colorscale\": [[0.0, \"#0d0887\"], [0.1111111111111111, \"#46039f\"], [0.2222222222222222, \"#7201a8\"], [0.3333333333333333, \"#9c179e\"], [0.4444444444444444, \"#bd3786\"], [0.5555555555555556, \"#d8576b\"], [0.6666666666666666, \"#ed7953\"], [0.7777777777777778, \"#fb9f3a\"], [0.8888888888888888, \"#fdca26\"], [1.0, \"#f0f921\"]], \"type\": \"histogram2dcontour\"}], \"mesh3d\": [{\"colorbar\": {\"outlinewidth\": 0, \"ticks\": \"\"}, \"type\": \"mesh3d\"}], \"parcoords\": [{\"line\": {\"colorbar\": {\"outlinewidth\": 0, \"ticks\": \"\"}}, \"type\": \"parcoords\"}], \"pie\": [{\"automargin\": true, \"type\": \"pie\"}], \"scatter\": [{\"marker\": {\"colorbar\": {\"outlinewidth\": 0, \"ticks\": \"\"}}, \"type\": \"scatter\"}], \"scatter3d\": [{\"line\": {\"colorbar\": {\"outlinewidth\": 0, \"ticks\": \"\"}}, \"marker\": {\"colorbar\": {\"outlinewidth\": 0, \"ticks\": \"\"}}, \"type\": \"scatter3d\"}], \"scattercarpet\": [{\"marker\": {\"colorbar\": {\"outlinewidth\": 0, \"ticks\": \"\"}}, \"type\": \"scattercarpet\"}], \"scattergeo\": [{\"marker\": {\"colorbar\": {\"outlinewidth\": 0, \"ticks\": \"\"}}, \"type\": \"scattergeo\"}], \"scattergl\": [{\"marker\": {\"colorbar\": {\"outlinewidth\": 0, \"ticks\": \"\"}}, \"type\": \"scattergl\"}], \"scattermapbox\": [{\"marker\": {\"colorbar\": {\"outlinewidth\": 0, \"ticks\": \"\"}}, \"type\": \"scattermapbox\"}], \"scatterpolar\": [{\"marker\": {\"colorbar\": {\"outlinewidth\": 0, \"ticks\": \"\"}}, \"type\": \"scatterpolar\"}], \"scatterpolargl\": [{\"marker\": {\"colorbar\": {\"outlinewidth\": 0, \"ticks\": \"\"}}, \"type\": \"scatterpolargl\"}], \"scatterternary\": [{\"marker\": {\"colorbar\": {\"outlinewidth\": 0, \"ticks\": \"\"}}, \"type\": \"scatterternary\"}], \"surface\": [{\"colorbar\": {\"outlinewidth\": 0, \"ticks\": \"\"}, \"colorscale\": [[0.0, \"#0d0887\"], [0.1111111111111111, \"#46039f\"], [0.2222222222222222, \"#7201a8\"], [0.3333333333333333, \"#9c179e\"], [0.4444444444444444, \"#bd3786\"], [0.5555555555555556, \"#d8576b\"], [0.6666666666666666, \"#ed7953\"], [0.7777777777777778, \"#fb9f3a\"], [0.8888888888888888, \"#fdca26\"], [1.0, \"#f0f921\"]], \"type\": \"surface\"}], \"table\": [{\"cells\": {\"fill\": {\"color\": \"#EBF0F8\"}, \"line\": {\"color\": \"white\"}}, \"header\": {\"fill\": {\"color\": \"#C8D4E3\"}, \"line\": {\"color\": \"white\"}}, \"type\": \"table\"}]}, \"layout\": {\"annotationdefaults\": {\"arrowcolor\": \"#2a3f5f\", \"arrowhead\": 0, \"arrowwidth\": 1}, \"coloraxis\": {\"colorbar\": {\"outlinewidth\": 0, \"ticks\": \"\"}}, \"colorscale\": {\"diverging\": [[0, \"#8e0152\"], [0.1, \"#c51b7d\"], [0.2, \"#de77ae\"], [0.3, \"#f1b6da\"], [0.4, \"#fde0ef\"], [0.5, \"#f7f7f7\"], [0.6, \"#e6f5d0\"], [0.7, \"#b8e186\"], [0.8, \"#7fbc41\"], [0.9, \"#4d9221\"], [1, \"#276419\"]], \"sequential\": [[0.0, \"#0d0887\"], [0.1111111111111111, \"#46039f\"], [0.2222222222222222, \"#7201a8\"], [0.3333333333333333, \"#9c179e\"], [0.4444444444444444, \"#bd3786\"], [0.5555555555555556, \"#d8576b\"], [0.6666666666666666, \"#ed7953\"], [0.7777777777777778, \"#fb9f3a\"], [0.8888888888888888, \"#fdca26\"], [1.0, \"#f0f921\"]], \"sequentialminus\": [[0.0, \"#0d0887\"], [0.1111111111111111, \"#46039f\"], [0.2222222222222222, \"#7201a8\"], [0.3333333333333333, \"#9c179e\"], [0.4444444444444444, \"#bd3786\"], [0.5555555555555556, \"#d8576b\"], [0.6666666666666666, \"#ed7953\"], [0.7777777777777778, \"#fb9f3a\"], [0.8888888888888888, \"#fdca26\"], [1.0, \"#f0f921\"]]}, \"colorway\": [\"#636efa\", \"#EF553B\", \"#00cc96\", \"#ab63fa\", \"#FFA15A\", \"#19d3f3\", \"#FF6692\", \"#B6E880\", \"#FF97FF\", \"#FECB52\"], \"font\": {\"color\": \"#2a3f5f\"}, \"geo\": {\"bgcolor\": \"white\", \"lakecolor\": \"white\", \"landcolor\": \"#E5ECF6\", \"showlakes\": true, \"showland\": true, \"subunitcolor\": \"white\"}, \"hoverlabel\": {\"align\": \"left\"}, \"hovermode\": \"closest\", \"mapbox\": {\"style\": \"light\"}, \"paper_bgcolor\": \"white\", \"plot_bgcolor\": \"#E5ECF6\", \"polar\": {\"angularaxis\": {\"gridcolor\": \"white\", \"linecolor\": \"white\", \"ticks\": \"\"}, \"bgcolor\": \"#E5ECF6\", \"radialaxis\": {\"gridcolor\": \"white\", \"linecolor\": \"white\", \"ticks\": \"\"}}, \"scene\": {\"xaxis\": {\"backgroundcolor\": \"#E5ECF6\", \"gridcolor\": \"white\", \"gridwidth\": 2, \"linecolor\": \"white\", \"showbackground\": true, \"ticks\": \"\", \"zerolinecolor\": \"white\"}, \"yaxis\": {\"backgroundcolor\": \"#E5ECF6\", \"gridcolor\": \"white\", \"gridwidth\": 2, \"linecolor\": \"white\", \"showbackground\": true, \"ticks\": \"\", \"zerolinecolor\": \"white\"}, \"zaxis\": {\"backgroundcolor\": \"#E5ECF6\", \"gridcolor\": \"white\", \"gridwidth\": 2, \"linecolor\": \"white\", \"showbackground\": true, \"ticks\": \"\", \"zerolinecolor\": \"white\"}}, \"shapedefaults\": {\"line\": {\"color\": \"#2a3f5f\"}}, \"ternary\": {\"aaxis\": {\"gridcolor\": \"white\", \"linecolor\": \"white\", \"ticks\": \"\"}, \"baxis\": {\"gridcolor\": \"white\", \"linecolor\": \"white\", \"ticks\": \"\"}, \"bgcolor\": \"#E5ECF6\", \"caxis\": {\"gridcolor\": \"white\", \"linecolor\": \"white\", \"ticks\": \"\"}}, \"title\": {\"x\": 0.05}, \"xaxis\": {\"automargin\": true, \"gridcolor\": \"white\", \"linecolor\": \"white\", \"ticks\": \"\", \"title\": {\"standoff\": 15}, \"zerolinecolor\": \"white\", \"zerolinewidth\": 2}, \"yaxis\": {\"automargin\": true, \"gridcolor\": \"white\", \"linecolor\": \"white\", \"ticks\": \"\", \"title\": {\"standoff\": 15}, \"zerolinecolor\": \"white\", \"zerolinewidth\": 2}}}, \"title\": {\"text\": \"Number of School Districts per State\"}},\n",
              "                        {\"responsive\": true}\n",
              "                    ).then(function(){\n",
              "                            \n",
              "var gd = document.getElementById('669e4211-b2f0-49d0-923f-35cb6d89c99f');\n",
              "var x = new MutationObserver(function (mutations, observer) {{\n",
              "        var display = window.getComputedStyle(gd).display;\n",
              "        if (!display || display === 'none') {{\n",
              "            console.log([gd, 'removed!']);\n",
              "            Plotly.purge(gd);\n",
              "            observer.disconnect();\n",
              "        }}\n",
              "}});\n",
              "\n",
              "// Listen for the removal of the full notebook cells\n",
              "var notebookContainer = gd.closest('#notebook-container');\n",
              "if (notebookContainer) {{\n",
              "    x.observe(notebookContainer, {childList: true});\n",
              "}}\n",
              "\n",
              "// Listen for the clearing of the current output cell\n",
              "var outputEl = gd.closest('.output');\n",
              "if (outputEl) {{\n",
              "    x.observe(outputEl, {childList: true});\n",
              "}}\n",
              "\n",
              "                        })\n",
              "                };\n",
              "                \n",
              "            </script>\n",
              "        </div>\n",
              "</body>\n",
              "</html>"
            ]
          },
          "metadata": {}
        }
      ]
    },
    {
      "cell_type": "markdown",
      "metadata": {
        "id": "ni8bb4hwsbPE"
      },
      "source": [
        "![Screenshot 2021-09-04 232337.png](data:image/png;base64,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)"
      ]
    },
    {
      "cell_type": "markdown",
      "metadata": {
        "id": "ktM4xhZmoXCF"
      },
      "source": [
        " As you can see in above plot, the available data does not cover all the states in the U.S. (19/50). The states with the most available school districts are CT (30) and UT (29) while there are also states with only one school district (FL, TN, NY, AZ) ( Github does not support interactive plot so i have to supply a picture)"
      ]
    },
    {
      "cell_type": "markdown",
      "metadata": {
        "id": "xgv-sC6JhYkE"
      },
      "source": [
        "### **School districts and expenditure per locale**"
      ]
    },
    {
      "cell_type": "code",
      "metadata": {
        "id": "9jDdPgkdz-63"
      },
      "source": [
        "districts.pp_total_raw.unique()\n",
        "temp = districts.groupby('locale').pp_total_raw.value_counts().to_frame()\n",
        "temp.columns = ['amount']\n",
        "temp = temp.reset_index(drop=False)"
      ],
      "execution_count": 102,
      "outputs": []
    },
    {
      "cell_type": "code",
      "metadata": {
        "id": "T9Ie8WCgGvpp"
      },
      "source": [
        "temp = temp.pivot(index='locale', columns='pp_total_raw')['amount']"
      ],
      "execution_count": 103,
      "outputs": []
    },
    {
      "cell_type": "code",
      "metadata": {
        "colab": {
          "base_uri": "https://localhost:8080/",
          "height": 295
        },
        "id": "-YZ1VDO41PwX",
        "outputId": "a31ff495-79d4-4670-e8ff-cf84fcbbc39d"
      },
      "source": [
        "sns.countplot(x=\"locale\", data=districts, palette='BuPu').set_title('Number of school per locale')\n",
        "plt.show()"
      ],
      "execution_count": 104,
      "outputs": [
        {
          "output_type": "display_data",
          "data": {
            "image/png": "[encoded data removed]",
            "text/plain": [
              "<Figure size 432x288 with 1 Axes>"
            ]
          },
          "metadata": {
            "needs_background": "light"
          }
        }
      ]
    },
    {
      "cell_type": "markdown",
      "metadata": {
        "id": "V7zeRI98XiF3"
      },
      "source": [
        "*Looking at the count plot, we can see more than 50% school districts located in suburb.*"
      ]
    },
    {
      "cell_type": "code",
      "metadata": {
        "id": "enD3JB-hiopc"
      },
      "source": [
        "temp = temp[['[4000, 6000[', '[6000, 8000[', '[8000, 10000[', '[10000, 12000[',\n",
        "       '[12000, 14000[', '[14000, 16000[', '[16000, 18000[', \n",
        "       '[18000, 20000[', '[20000, 22000[', '[22000, 24000[', ]]"
      ],
      "execution_count": 105,
      "outputs": []
    },
    {
      "cell_type": "code",
      "metadata": {
        "colab": {
          "base_uri": "https://localhost:8080/",
          "height": 363
        },
        "id": "xhbTDrRpiqcC",
        "outputId": "a2830ed0-1104-4b2b-c34e-5276637e1953"
      },
      "source": [
        "sns.heatmap(temp, annot=True,  cmap='BuPu').set_title('Heatmap of Districts According To locale and pp_total_raw')\n",
        "plt.show()"
      ],
      "execution_count": 106,
      "outputs": [
        {
          "output_type": "display_data",
          "data": {
            "image/png": "[encoded data removed]",
            "text/plain": [
              "<Figure size 432x288 with 2 Axes>"
            ]
          },
          "metadata": {
            "needs_background": "light"
          }
        }
      ]
    },
    {
      "cell_type": "markdown",
      "metadata": {
        "id": "ca6YEjI7dObJ"
      },
      "source": [
        "*From the heatmap above, we reckon that the majority of school districts have more than $10000 expenditure per pupil regardless of the locales*"
      ]
    },
    {
      "cell_type": "code",
      "metadata": {
        "colab": {
          "base_uri": "https://localhost:8080/",
          "height": 419
        },
        "id": "fiUgGWH4e9Um",
        "outputId": "f22b2cdd-a74b-4dc0-b44b-6a35dd14870a"
      },
      "source": [
        "districts"
      ],
      "execution_count": 107,
      "outputs": [
        {
          "output_type": "execute_result",
          "data": {
            "text/html": [
              "<div>\n",
              "<style scoped>\n",
              "    .dataframe tbody tr th:only-of-type {\n",
              "        vertical-align: middle;\n",
              "    }\n",
              "\n",
              "    .dataframe tbody tr th {\n",
              "        vertical-align: top;\n",
              "    }\n",
              "\n",
              "    .dataframe thead th {\n",
              "        text-align: right;\n",
              "    }\n",
              "</style>\n",
              "<table border=\"1\" class=\"dataframe\">\n",
              "  <thead>\n",
              "    <tr style=\"text-align: right;\">\n",
              "      <th></th>\n",
              "      <th>district_id</th>\n",
              "      <th>state</th>\n",
              "      <th>locale</th>\n",
              "      <th>pct_black/hispanic</th>\n",
              "      <th>pct_free/reduced</th>\n",
              "      <th>county_connections_ratio</th>\n",
              "      <th>pp_total_raw</th>\n",
              "    </tr>\n",
              "  </thead>\n",
              "  <tbody>\n",
              "    <tr>\n",
              "      <th>0</th>\n",
              "      <td>8815</td>\n",
              "      <td>Illinois</td>\n",
              "      <td>Suburb</td>\n",
              "      <td>[0, 0.2[</td>\n",
              "      <td>[0, 0.2[</td>\n",
              "      <td>[0.18, 1[</td>\n",
              "      <td>[14000, 16000[</td>\n",
              "    </tr>\n",
              "    <tr>\n",
              "      <th>1</th>\n",
              "      <td>4921</td>\n",
              "      <td>Utah</td>\n",
              "      <td>Suburb</td>\n",
              "      <td>[0, 0.2[</td>\n",
              "      <td>[0.2, 0.4[</td>\n",
              "      <td>[0.18, 1[</td>\n",
              "      <td>[6000, 8000[</td>\n",
              "    </tr>\n",
              "    <tr>\n",
              "      <th>2</th>\n",
              "      <td>5987</td>\n",
              "      <td>Wisconsin</td>\n",
              "      <td>Suburb</td>\n",
              "      <td>[0, 0.2[</td>\n",
              "      <td>[0, 0.2[</td>\n",
              "      <td>[0.18, 1[</td>\n",
              "      <td>[10000, 12000[</td>\n",
              "    </tr>\n",
              "    <tr>\n",
              "      <th>3</th>\n",
              "      <td>3710</td>\n",
              "      <td>Utah</td>\n",
              "      <td>Suburb</td>\n",
              "      <td>[0, 0.2[</td>\n",
              "      <td>[0.4, 0.6[</td>\n",
              "      <td>[0.18, 1[</td>\n",
              "      <td>[6000, 8000[</td>\n",
              "    </tr>\n",
              "    <tr>\n",
              "      <th>4</th>\n",
              "      <td>7177</td>\n",
              "      <td>North Carolina</td>\n",
              "      <td>Suburb</td>\n",
              "      <td>[0.2, 0.4[</td>\n",
              "      <td>[0.2, 0.4[</td>\n",
              "      <td>[0.18, 1[</td>\n",
              "      <td>[8000, 10000[</td>\n",
              "    </tr>\n",
              "    <tr>\n",
              "      <th>...</th>\n",
              "      <td>...</td>\n",
              "      <td>...</td>\n",
              "      <td>...</td>\n",
              "      <td>...</td>\n",
              "      <td>...</td>\n",
              "      <td>...</td>\n",
              "      <td>...</td>\n",
              "    </tr>\n",
              "    <tr>\n",
              "      <th>171</th>\n",
              "      <td>9515</td>\n",
              "      <td>New York</td>\n",
              "      <td>Rural</td>\n",
              "      <td>[0, 0.2[</td>\n",
              "      <td>[0.4, 0.6[</td>\n",
              "      <td>[0.18, 1[</td>\n",
              "      <td>[18000, 20000[</td>\n",
              "    </tr>\n",
              "    <tr>\n",
              "      <th>172</th>\n",
              "      <td>8103</td>\n",
              "      <td>Tennessee</td>\n",
              "      <td>Rural</td>\n",
              "      <td>[0.2, 0.4[</td>\n",
              "      <td>NaN</td>\n",
              "      <td>[0.18, 1[</td>\n",
              "      <td>[8000, 10000[</td>\n",
              "    </tr>\n",
              "    <tr>\n",
              "      <th>173</th>\n",
              "      <td>4929</td>\n",
              "      <td>Virginia</td>\n",
              "      <td>Rural</td>\n",
              "      <td>[0, 0.2[</td>\n",
              "      <td>[0.4, 0.6[</td>\n",
              "      <td>[0.18, 1[</td>\n",
              "      <td>[12000, 14000[</td>\n",
              "    </tr>\n",
              "    <tr>\n",
              "      <th>174</th>\n",
              "      <td>7975</td>\n",
              "      <td>California</td>\n",
              "      <td>City</td>\n",
              "      <td>[0.6, 0.8[</td>\n",
              "      <td>[0.6, 0.8[</td>\n",
              "      <td>[0.18, 1[</td>\n",
              "      <td>NaN</td>\n",
              "    </tr>\n",
              "    <tr>\n",
              "      <th>175</th>\n",
              "      <td>7164</td>\n",
              "      <td>California</td>\n",
              "      <td>City</td>\n",
              "      <td>[0.6, 0.8[</td>\n",
              "      <td>[0.6, 0.8[</td>\n",
              "      <td>[0.18, 1[</td>\n",
              "      <td>NaN</td>\n",
              "    </tr>\n",
              "  </tbody>\n",
              "</table>\n",
              "<p>176 rows × 7 columns</p>\n",
              "</div>"
            ],
            "text/plain": [
              "     district_id           state  ... county_connections_ratio    pp_total_raw\n",
              "0           8815        Illinois  ...                [0.18, 1[  [14000, 16000[\n",
              "1           4921            Utah  ...                [0.18, 1[    [6000, 8000[\n",
              "2           5987       Wisconsin  ...                [0.18, 1[  [10000, 12000[\n",
              "3           3710            Utah  ...                [0.18, 1[    [6000, 8000[\n",
              "4           7177  North Carolina  ...                [0.18, 1[   [8000, 10000[\n",
              "..           ...             ...  ...                      ...             ...\n",
              "171         9515        New York  ...                [0.18, 1[  [18000, 20000[\n",
              "172         8103       Tennessee  ...                [0.18, 1[   [8000, 10000[\n",
              "173         4929        Virginia  ...                [0.18, 1[  [12000, 14000[\n",
              "174         7975      California  ...                [0.18, 1[             NaN\n",
              "175         7164      California  ...                [0.18, 1[             NaN\n",
              "\n",
              "[176 rows x 7 columns]"
            ]
          },
          "metadata": {},
          "execution_count": 107
        }
      ]
    },
    {
      "cell_type": "markdown",
      "metadata": {
        "id": "dEEHPSiEl8gF"
      },
      "source": [
        "From a glimpse, we can see the county_connections_ration has 3 values: NaN, [0.18, 1] and [1, 2]. However, [1,2] is only for one data point, so it is not valuable. Thus, we take only [0.18, 1]"
      ]
    },
    {
      "cell_type": "code",
      "metadata": {
        "colab": {
          "base_uri": "https://localhost:8080/"
        },
        "id": "TOqE-9V1hKrC",
        "outputId": "9c179581-1fcd-4334-b26b-dea253d76dac"
      },
      "source": [
        "districts = districts[districts['county_connections_ratio']=='[0.18, 1[']\n",
        "districts['county_connections_ratio']"
      ],
      "execution_count": 120,
      "outputs": [
        {
          "output_type": "execute_result",
          "data": {
            "text/plain": [
              "0      [0.18, 1[\n",
              "1      [0.18, 1[\n",
              "2      [0.18, 1[\n",
              "3      [0.18, 1[\n",
              "4      [0.18, 1[\n",
              "         ...    \n",
              "157    [0.18, 1[\n",
              "158    [0.18, 1[\n",
              "159    [0.18, 1[\n",
              "160    [0.18, 1[\n",
              "161    [0.18, 1[\n",
              "Name: county_connections_ratio, Length: 161, dtype: object"
            ]
          },
          "metadata": {},
          "execution_count": 120
        }
      ]
    },
    {
      "cell_type": "code",
      "metadata": {
        "colab": {
          "base_uri": "https://localhost:8080/",
          "height": 585
        },
        "id": "h7yUVTuHlJek",
        "outputId": "cb2cdbd9-578d-4d1a-b1b4-c342c98c2990"
      },
      "source": [
        "fig, ax = plt.subplots(2, 2, figsize=(16,8))\n",
        "\n",
        "sns.countplot(data=districts, x='pct_black/hispanic', order=['[0, 0.2[', '[0.2, 0.4[', '[0.4, 0.6[', '[0.6, 0.8[','[0.8, 1[', ], palette='BuPu', ax=ax[0,0])\n",
        "ax[0,0].set_ylim([0,135])\n",
        "sns.countplot(data=districts, x='pct_free/reduced', order=['[0, 0.2[', '[0.2, 0.4[', '[0.4, 0.6[', '[0.6, 0.8[','[0.8, 1[', ], palette='BuPu', ax=ax[0,1])\n",
        "ax[0,1].set_ylim([0,135])\n",
        "\n",
        "sns.countplot(data=districts, x='county_connections_ratio',palette='BuPu', ax=ax[1,0])\n",
        "ax[1,0].set_ylim([0,135])\n",
        "sns.countplot(data=districts, x='pp_total_raw', order=['[4000, 6000[', '[6000, 8000[', '[8000, 10000[', '[10000, 12000[',\n",
        "       '[12000, 14000[', '[14000, 16000[', '[16000, 18000[', \n",
        "       '[18000, 20000[', '[20000, 22000[', '[22000, 24000[', ], palette='BuPu', ax=ax[1,1])\n",
        "ax[1,1].set_ylim([0,135])\n",
        "ax[1,1].set_xticklabels(ax[1,1].get_xticklabels(), rotation=90)\n",
        "\n",
        "plt.tight_layout()\n",
        "plt.show()"
      ],
      "execution_count": 121,
      "outputs": [
        {
          "output_type": "display_data",
          "data": {
            "image/png": "[encoded data removed]",
            "text/plain": [
              "<Figure size 1152x576 with 4 Axes>"
            ]
          },
          "metadata": {
            "needs_background": "light"
          }
        }
      ]
    },
    {
      "cell_type": "code",
      "metadata": {
        "id": "G6N177rMwkCP"
      },
      "source": [
        "temp2 = districts.groupby('state')['pct_black/hispanic'].value_counts().to_frame()"
      ],
      "execution_count": 124,
      "outputs": []
    },
    {
      "cell_type": "code",
      "metadata": {
        "id": "r2HuWn6FLjy8"
      },
      "source": [
        "temp2 = temp2.reset_index(drop=False)"
      ],
      "execution_count": 128,
      "outputs": []
    },
    {
      "cell_type": "code",
      "metadata": {
        "id": "luQVm-jlLyf4"
      },
      "source": [
        "temp2 = temp2.pivot(index='state', columns='pct_black/hispanic')['amount']"
      ],
      "execution_count": 132,
      "outputs": []
    },
    {
      "cell_type": "code",
      "metadata": {
        "colab": {
          "base_uri": "https://localhost:8080/",
          "height": 296
        },
        "id": "J3EsVzWuMD7V",
        "outputId": "8b87db52-8713-4082-9999-04dc3b7fe5f9"
      },
      "source": [
        "sns.heatmap(temp2, annot=True,  cmap='BuPu').set_title('Heatmap of Districts According To state and pct_black/hispanic')\n",
        "plt.show()"
      ],
      "execution_count": 134,
      "outputs": [
        {
          "output_type": "display_data",
          "data": {
            "image/png": "[encoded data removed]",
            "text/plain": [
              "<Figure size 432x288 with 2 Axes>"
            ]
          },
          "metadata": {
            "needs_background": "light"
          }
        }
      ]
    },
    {
      "cell_type": "markdown",
      "metadata": {
        "id": "sLdbV5PyACQY"
      },
      "source": [
        "Looking at those plots above, we know:\n",
        "\n",
        "\n",
        "1.   Most districts have less than 50% percent students identified as Black/Hispanic\n",
        "2.   \n",
        "\n"
      ]
    }
  ]
}