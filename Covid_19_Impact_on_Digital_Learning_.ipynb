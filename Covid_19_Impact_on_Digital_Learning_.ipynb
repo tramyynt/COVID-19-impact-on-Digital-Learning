{
  "nbformat": 4,
  "nbformat_minor": 0,
  "metadata": {
    "colab": {
      "name": "Covid 19 Impact on Digital Learning .ipynb",
      "provenance": [],
      "authorship_tag": "ABX9TyN3OGHElz5IXXYekrRkb2jm",
      "include_colab_link": true
    },
    "kernelspec": {
      "name": "python3",
      "display_name": "Python 3"
    },
    "language_info": {
      "name": "python"
    }
  },
  "cells": [
    {
      "cell_type": "markdown",
      "metadata": {
        "id": "view-in-github",
        "colab_type": "text"
      },
      "source": [
        "<a href=\"https://colab.research.google.com/github/tramyynt/COVID-19-impact-on-Digital-Learning-/blob/main/Covid_19_Impact_on_Digital_Learning_.ipynb\" target=\"_parent\"><img src=\"https://colab.research.google.com/assets/colab-badge.svg\" alt=\"Open In Colab\"/></a>"
      ]
    },
    {
      "cell_type": "markdown",
      "metadata": {
        "id": "JMmHAbFTwRIE"
      },
      "source": [
        "\n",
        "# **Covid Impact on Digital Learning**:\n",
        "This Kaggle competition challenge is to uncover some trends in digital learning."
      ]
    },
    {
      "cell_type": "markdown",
      "metadata": {
        "id": "8f_z4sG32k1s"
      },
      "source": [
        "### **Problem Statement**\n",
        "The COVID-19 Pandemic has disrupted learning for more than 56 million students in the United States. In the Spring of 2020, most states and local governments across the U.S. closed educational institutions to stop the spread of the virus. In response, schools and teachers have attempted to reach students remotely through distance learning tools and digital platforms. Until today, concerns of the exacaberting digital divide and long-term learning loss among America’s most vulnerable learners continue to grow."
      ]
    },
    {
      "cell_type": "markdown",
      "metadata": {
        "id": "4fd_GrtBvbL-"
      },
      "source": [
        "### **What should focus on ?**\n",
        "\n",
        "\n",
        "1.   What is the picture of digital connectivity and engagement in 2020?\n",
        "2.   What is the effect of the COVID-19 pandemic on online and distance learning, and how might this also evolve in the future?\n",
        "3. How does student engagement with different types of education technology change over the course of the pandemic?\n",
        "4. How does student engagement with online learning platforms relate to different geography? Demographic context (e.g., race/ethnicity, ESL, learning disability)? Learning context? Socioeconomic status?\n",
        "5. Do certain state interventions, practices or policies (e.g., stimulus, reopening, eviction moratorium) correlate with the increase or decrease online engagement?\n",
        "\n",
        "\n",
        "\n",
        "\n"
      ]
    },
    {
      "cell_type": "markdown",
      "metadata": {
        "id": "e-dZo_dLxNqT"
      },
      "source": [
        "## Data Preparation\n",
        "\n",
        "\n",
        "1.   Import neccessary libs\n",
        "2.   Get data from Kaggle API \n",
        "\n"
      ]
    },
    {
      "cell_type": "code",
      "metadata": {
        "id": "nQQsR7XWzhjr"
      },
      "source": [
        "import numpy as np \n",
        "import pandas as pd\n",
        "\n",
        "import os\n",
        "import glob\n",
        "import matplotlib.pyplot as plt\n",
        "import seaborn as sns\n",
        "import re"
      ],
      "execution_count": 60,
      "outputs": []
    },
    {
      "cell_type": "code",
      "metadata": {
        "colab": {
          "base_uri": "https://localhost:8080/"
        },
        "id": "qYauWMtU7b9j",
        "outputId": "076805f8-d8cf-4fc7-cbf6-ec68bcc663e5"
      },
      "source": [
        "!pip install -U -q kaggle==1.5.8"
      ],
      "execution_count": 2,
      "outputs": [
        {
          "output_type": "stream",
          "text": [
            "\u001b[?25l\r\u001b[K     |█████▌                          | 10 kB 18.5 MB/s eta 0:00:01\r\u001b[K     |███████████                     | 20 kB 21.8 MB/s eta 0:00:01\r\u001b[K     |████████████████▋               | 30 kB 25.6 MB/s eta 0:00:01\r\u001b[K     |██████████████████████▏         | 40 kB 27.8 MB/s eta 0:00:01\r\u001b[K     |███████████████████████████▊    | 51 kB 21.5 MB/s eta 0:00:01\r\u001b[K     |████████████████████████████████| 59 kB 4.8 MB/s \n",
            "\u001b[?25h  Building wheel for kaggle (setup.py) ... \u001b[?25l\u001b[?25hdone\n",
            "  Building wheel for slugify (setup.py) ... \u001b[?25l\u001b[?25hdone\n"
          ],
          "name": "stdout"
        }
      ]
    },
    {
      "cell_type": "code",
      "metadata": {
        "colab": {
          "base_uri": "https://localhost:8080/"
        },
        "id": "7RqzAk7woqFP",
        "outputId": "ed45e870-9f0a-46b4-87d4-582a89d0dc9c"
      },
      "source": [
        "!ls -la -r"
      ],
      "execution_count": 9,
      "outputs": [
        {
          "output_type": "stream",
          "text": [
            "total 20\n",
            "drwxr-xr-x 1 root root 4096 Aug 25 13:35 sample_data\n",
            "-rw-r--r-- 1 root root   66 Aug 26 18:04 kaggle.json\n",
            "drwxr-xr-x 4 root root 4096 Aug 25 13:35 .config\n",
            "drwxr-xr-x 1 root root 4096 Aug 26 17:49 ..\n",
            "drwxr-xr-x 1 root root 4096 Aug 26 18:04 .\n"
          ],
          "name": "stdout"
        }
      ]
    },
    {
      "cell_type": "code",
      "metadata": {
        "id": "75PhHmoE6CW4"
      },
      "source": [
        "# MUST UPLOAD kaggle.json FIRST\n",
        "# move kaggle.json to /root/.kaggle\n",
        "!mv /kaggle.json /root/.kaggle\n",
        "!chmod 600 /root/.kaggle/kaggle.json"
      ],
      "execution_count": 11,
      "outputs": []
    },
    {
      "cell_type": "code",
      "metadata": {
        "colab": {
          "base_uri": "https://localhost:8080/"
        },
        "id": "FT8jx2NtAU74",
        "outputId": "28652759-2911-4a32-decc-ebfffbedee47"
      },
      "source": [
        "!kaggle competitions download -c \"learnplatform-covid19-impact-on-digital-learning\" "
      ],
      "execution_count": 12,
      "outputs": [
        {
          "output_type": "stream",
          "text": [
            "Downloading learnplatform-covid19-impact-on-digital-learning.zip to /content\n",
            "100% 124M/124M [00:02<00:00, 52.4MB/s]\n",
            "100% 124M/124M [00:02<00:00, 54.1MB/s]\n"
          ],
          "name": "stdout"
        }
      ]
    },
    {
      "cell_type": "code",
      "metadata": {
        "colab": {
          "base_uri": "https://localhost:8080/"
        },
        "id": "YD6qreWuKWDS",
        "outputId": "08570677-d17a-4d0e-d848-9d2f061b8ce6"
      },
      "source": [
        "# unzip data\n",
        "!unzip '*.zip'"
      ],
      "execution_count": 13,
      "outputs": [
        {
          "output_type": "stream",
          "text": [
            "Archive:  learnplatform-covid19-impact-on-digital-learning.zip\n",
            "  inflating: README.md               \n",
            "  inflating: districts_info.csv      \n",
            "  inflating: engagement_data/1000.csv  \n",
            "  inflating: engagement_data/1039.csv  \n",
            "  inflating: engagement_data/1044.csv  \n",
            "  inflating: engagement_data/1052.csv  \n",
            "  inflating: engagement_data/1131.csv  \n",
            "  inflating: engagement_data/1142.csv  \n",
            "  inflating: engagement_data/1179.csv  \n",
            "  inflating: engagement_data/1204.csv  \n",
            "  inflating: engagement_data/1270.csv  \n",
            "  inflating: engagement_data/1324.csv  \n",
            "  inflating: engagement_data/1444.csv  \n",
            "  inflating: engagement_data/1450.csv  \n",
            "  inflating: engagement_data/1470.csv  \n",
            "  inflating: engagement_data/1536.csv  \n",
            "  inflating: engagement_data/1549.csv  \n",
            "  inflating: engagement_data/1558.csv  \n",
            "  inflating: engagement_data/1570.csv  \n",
            "  inflating: engagement_data/1584.csv  \n",
            "  inflating: engagement_data/1624.csv  \n",
            "  inflating: engagement_data/1705.csv  \n",
            "  inflating: engagement_data/1712.csv  \n",
            "  inflating: engagement_data/1742.csv  \n",
            "  inflating: engagement_data/1772.csv  \n",
            "  inflating: engagement_data/1791.csv  \n",
            "  inflating: engagement_data/1857.csv  \n",
            "  inflating: engagement_data/1877.csv  \n",
            "  inflating: engagement_data/1904.csv  \n",
            "  inflating: engagement_data/1965.csv  \n",
            "  inflating: engagement_data/2017.csv  \n",
            "  inflating: engagement_data/2060.csv  \n",
            "  inflating: engagement_data/2074.csv  \n",
            "  inflating: engagement_data/2106.csv  \n",
            "  inflating: engagement_data/2130.csv  \n",
            "  inflating: engagement_data/2165.csv  \n",
            "  inflating: engagement_data/2167.csv  \n",
            "  inflating: engagement_data/2172.csv  \n",
            "  inflating: engagement_data/2201.csv  \n",
            "  inflating: engagement_data/2209.csv  \n",
            "  inflating: engagement_data/2238.csv  \n",
            "  inflating: engagement_data/2257.csv  \n",
            "  inflating: engagement_data/2285.csv  \n",
            "  inflating: engagement_data/2321.csv  \n",
            "  inflating: engagement_data/2339.csv  \n",
            "  inflating: engagement_data/2393.csv  \n",
            "  inflating: engagement_data/2439.csv  \n",
            "  inflating: engagement_data/2441.csv  \n",
            "  inflating: engagement_data/2517.csv  \n",
            "  inflating: engagement_data/2549.csv  \n",
            "  inflating: engagement_data/2567.csv  \n",
            "  inflating: engagement_data/2598.csv  \n",
            "  inflating: engagement_data/2601.csv  \n",
            "  inflating: engagement_data/2685.csv  \n",
            "  inflating: engagement_data/2729.csv  \n",
            "  inflating: engagement_data/2779.csv  \n",
            "  inflating: engagement_data/2870.csv  \n",
            "  inflating: engagement_data/2872.csv  \n",
            "  inflating: engagement_data/2940.csv  \n",
            "  inflating: engagement_data/2956.csv  \n",
            "  inflating: engagement_data/2991.csv  \n",
            "  inflating: engagement_data/3080.csv  \n",
            "  inflating: engagement_data/3160.csv  \n",
            "  inflating: engagement_data/3188.csv  \n",
            "  inflating: engagement_data/3222.csv  \n",
            "  inflating: engagement_data/3228.csv  \n",
            "  inflating: engagement_data/3248.csv  \n",
            "  inflating: engagement_data/3266.csv  \n",
            "  inflating: engagement_data/3301.csv  \n",
            "  inflating: engagement_data/3314.csv  \n",
            "  inflating: engagement_data/3322.csv  \n",
            "  inflating: engagement_data/3371.csv  \n",
            "  inflating: engagement_data/3390.csv  \n",
            "  inflating: engagement_data/3393.csv  \n",
            "  inflating: engagement_data/3412.csv  \n",
            "  inflating: engagement_data/3471.csv  \n",
            "  inflating: engagement_data/3550.csv  \n",
            "  inflating: engagement_data/3558.csv  \n",
            "  inflating: engagement_data/3580.csv  \n",
            "  inflating: engagement_data/3640.csv  \n",
            "  inflating: engagement_data/3668.csv  \n",
            "  inflating: engagement_data/3670.csv  \n",
            "  inflating: engagement_data/3692.csv  \n",
            "  inflating: engagement_data/3710.csv  \n",
            "  inflating: engagement_data/3732.csv  \n",
            "  inflating: engagement_data/3772.csv  \n",
            "  inflating: engagement_data/3864.csv  \n",
            "  inflating: engagement_data/3936.csv  \n",
            "  inflating: engagement_data/3959.csv  \n",
            "  inflating: engagement_data/3986.csv  \n",
            "  inflating: engagement_data/4029.csv  \n",
            "  inflating: engagement_data/4031.csv  \n",
            "  inflating: engagement_data/4051.csv  \n",
            "  inflating: engagement_data/4083.csv  \n",
            "  inflating: engagement_data/4165.csv  \n",
            "  inflating: engagement_data/4183.csv  \n",
            "  inflating: engagement_data/4203.csv  \n",
            "  inflating: engagement_data/4314.csv  \n",
            "  inflating: engagement_data/4348.csv  \n",
            "  inflating: engagement_data/4373.csv  \n",
            "  inflating: engagement_data/4408.csv  \n",
            "  inflating: engagement_data/4516.csv  \n",
            "  inflating: engagement_data/4520.csv  \n",
            "  inflating: engagement_data/4550.csv  \n",
            "  inflating: engagement_data/4569.csv  \n",
            "  inflating: engagement_data/4591.csv  \n",
            "  inflating: engagement_data/4602.csv  \n",
            "  inflating: engagement_data/4629.csv  \n",
            "  inflating: engagement_data/4666.csv  \n",
            "  inflating: engagement_data/4668.csv  \n",
            "  inflating: engagement_data/4683.csv  \n",
            "  inflating: engagement_data/4744.csv  \n",
            "  inflating: engagement_data/4749.csv  \n",
            "  inflating: engagement_data/4775.csv  \n",
            "  inflating: engagement_data/4808.csv  \n",
            "  inflating: engagement_data/4921.csv  \n",
            "  inflating: engagement_data/4929.csv  \n",
            "  inflating: engagement_data/4936.csv  \n",
            "  inflating: engagement_data/4937.csv  \n",
            "  inflating: engagement_data/4949.csv  \n",
            "  inflating: engagement_data/5006.csv  \n",
            "  inflating: engagement_data/5042.csv  \n",
            "  inflating: engagement_data/5057.csv  \n",
            "  inflating: engagement_data/5150.csv  \n",
            "  inflating: engagement_data/5231.csv  \n",
            "  inflating: engagement_data/5257.csv  \n",
            "  inflating: engagement_data/5380.csv  \n",
            "  inflating: engagement_data/5404.csv  \n",
            "  inflating: engagement_data/5422.csv  \n",
            "  inflating: engagement_data/5479.csv  \n",
            "  inflating: engagement_data/5510.csv  \n",
            "  inflating: engagement_data/5524.csv  \n",
            "  inflating: engagement_data/5527.csv  \n",
            "  inflating: engagement_data/5600.csv  \n",
            "  inflating: engagement_data/5604.csv  \n",
            "  inflating: engagement_data/5627.csv  \n",
            "  inflating: engagement_data/5802.csv  \n",
            "  inflating: engagement_data/5882.csv  \n",
            "  inflating: engagement_data/5890.csv  \n",
            "  inflating: engagement_data/5903.csv  \n",
            "  inflating: engagement_data/5934.csv  \n",
            "  inflating: engagement_data/5970.csv  \n",
            "  inflating: engagement_data/5987.csv  \n",
            "  inflating: engagement_data/6046.csv  \n",
            "  inflating: engagement_data/6049.csv  \n",
            "  inflating: engagement_data/6055.csv  \n",
            "  inflating: engagement_data/6066.csv  \n",
            "  inflating: engagement_data/6104.csv  \n",
            "  inflating: engagement_data/6131.csv  \n",
            "  inflating: engagement_data/6144.csv  \n",
            "  inflating: engagement_data/6165.csv  \n",
            "  inflating: engagement_data/6194.csv  \n",
            "  inflating: engagement_data/6250.csv  \n",
            "  inflating: engagement_data/6345.csv  \n",
            "  inflating: engagement_data/6418.csv  \n",
            "  inflating: engagement_data/6512.csv  \n",
            "  inflating: engagement_data/6577.csv  \n",
            "  inflating: engagement_data/6584.csv  \n",
            "  inflating: engagement_data/6640.csv  \n",
            "  inflating: engagement_data/6665.csv  \n",
            "  inflating: engagement_data/6721.csv  \n",
            "  inflating: engagement_data/6762.csv  \n",
            "  inflating: engagement_data/6774.csv  \n",
            "  inflating: engagement_data/6919.csv  \n",
            "  inflating: engagement_data/6998.csv  \n",
            "  inflating: engagement_data/7086.csv  \n",
            "  inflating: engagement_data/7164.csv  \n",
            "  inflating: engagement_data/7177.csv  \n",
            "  inflating: engagement_data/7305.csv  \n",
            "  inflating: engagement_data/7308.csv  \n",
            "  inflating: engagement_data/7342.csv  \n",
            "  inflating: engagement_data/7352.csv  \n",
            "  inflating: engagement_data/7387.csv  \n",
            "  inflating: engagement_data/7457.csv  \n",
            "  inflating: engagement_data/7541.csv  \n",
            "  inflating: engagement_data/7614.csv  \n",
            "  inflating: engagement_data/7660.csv  \n",
            "  inflating: engagement_data/7675.csv  \n",
            "  inflating: engagement_data/7723.csv  \n",
            "  inflating: engagement_data/7741.csv  \n",
            "  inflating: engagement_data/7752.csv  \n",
            "  inflating: engagement_data/7767.csv  \n",
            "  inflating: engagement_data/7785.csv  \n",
            "  inflating: engagement_data/7798.csv  \n",
            "  inflating: engagement_data/7829.csv  \n",
            "  inflating: engagement_data/7858.csv  \n",
            "  inflating: engagement_data/7964.csv  \n",
            "  inflating: engagement_data/7970.csv  \n",
            "  inflating: engagement_data/7975.csv  \n",
            "  inflating: engagement_data/7980.csv  \n",
            "  inflating: engagement_data/8017.csv  \n",
            "  inflating: engagement_data/8076.csv  \n",
            "  inflating: engagement_data/8103.csv  \n",
            "  inflating: engagement_data/8127.csv  \n",
            "  inflating: engagement_data/8160.csv  \n",
            "  inflating: engagement_data/8184.csv  \n",
            "  inflating: engagement_data/8256.csv  \n",
            "  inflating: engagement_data/8328.csv  \n",
            "  inflating: engagement_data/8425.csv  \n",
            "  inflating: engagement_data/8433.csv  \n",
            "  inflating: engagement_data/8515.csv  \n",
            "  inflating: engagement_data/8520.csv  \n",
            "  inflating: engagement_data/8539.csv  \n",
            "  inflating: engagement_data/8556.csv  \n",
            "  inflating: engagement_data/8685.csv  \n",
            "  inflating: engagement_data/8702.csv  \n",
            "  inflating: engagement_data/8723.csv  \n",
            "  inflating: engagement_data/8748.csv  \n",
            "  inflating: engagement_data/8784.csv  \n",
            "  inflating: engagement_data/8796.csv  \n",
            "  inflating: engagement_data/8815.csv  \n",
            "  inflating: engagement_data/8845.csv  \n",
            "  inflating: engagement_data/8884.csv  \n",
            "  inflating: engagement_data/8902.csv  \n",
            "  inflating: engagement_data/8937.csv  \n",
            "  inflating: engagement_data/9007.csv  \n",
            "  inflating: engagement_data/9043.csv  \n",
            "  inflating: engagement_data/9120.csv  \n",
            "  inflating: engagement_data/9140.csv  \n",
            "  inflating: engagement_data/9230.csv  \n",
            "  inflating: engagement_data/9303.csv  \n",
            "  inflating: engagement_data/9357.csv  \n",
            "  inflating: engagement_data/9463.csv  \n",
            "  inflating: engagement_data/9478.csv  \n",
            "  inflating: engagement_data/9515.csv  \n",
            "  inflating: engagement_data/9536.csv  \n",
            "  inflating: engagement_data/9537.csv  \n",
            "  inflating: engagement_data/9553.csv  \n",
            "  inflating: engagement_data/9589.csv  \n",
            "  inflating: engagement_data/9729.csv  \n",
            "  inflating: engagement_data/9778.csv  \n",
            "  inflating: engagement_data/9812.csv  \n",
            "  inflating: engagement_data/9839.csv  \n",
            "  inflating: engagement_data/9899.csv  \n",
            "  inflating: engagement_data/9927.csv  \n",
            "  inflating: products_info.csv       \n"
          ],
          "name": "stdout"
        }
      ]
    },
    {
      "cell_type": "code",
      "metadata": {
        "id": "I7rQj2MdMsIY"
      },
      "source": [
        "# get file name and assign to a new column district_id\n",
        "files = glob.glob(\"engagement_data/*.csv\")\n",
        "list_of_df = [pd.read_csv(file).assign(district_id=os.path.basename(file).strip(\".csv\")) for file in files] \n",
        "#list_of_df = [pd.read_csv(file) for file in files]"
      ],
      "execution_count": 14,
      "outputs": []
    },
    {
      "cell_type": "code",
      "metadata": {
        "id": "ZXFM3EycTjLH"
      },
      "source": [
        "engagement = pd.concat(list_of_df, ignore_index= True)"
      ],
      "execution_count": 15,
      "outputs": []
    },
    {
      "cell_type": "code",
      "metadata": {
        "colab": {
          "base_uri": "https://localhost:8080/"
        },
        "id": "tY7F2DCITqqo",
        "outputId": "5bb814c4-069a-4c2d-8ba8-b9584ac816c7"
      },
      "source": [
        "engagement.shape"
      ],
      "execution_count": 16,
      "outputs": [
        {
          "output_type": "execute_result",
          "data": {
            "text/plain": [
              "(22324190, 5)"
            ]
          },
          "metadata": {},
          "execution_count": 16
        }
      ]
    },
    {
      "cell_type": "code",
      "metadata": {
        "colab": {
          "base_uri": "https://localhost:8080/",
          "height": 204
        },
        "id": "9p3RHQWZ9_Qp",
        "outputId": "3c5ce104-78ad-4d05-b244-a3e1313146a2"
      },
      "source": [
        "engagement.head(5)"
      ],
      "execution_count": 62,
      "outputs": [
        {
          "output_type": "execute_result",
          "data": {
            "text/html": [
              "<div>\n",
              "<style scoped>\n",
              "    .dataframe tbody tr th:only-of-type {\n",
              "        vertical-align: middle;\n",
              "    }\n",
              "\n",
              "    .dataframe tbody tr th {\n",
              "        vertical-align: top;\n",
              "    }\n",
              "\n",
              "    .dataframe thead th {\n",
              "        text-align: right;\n",
              "    }\n",
              "</style>\n",
              "<table border=\"1\" class=\"dataframe\">\n",
              "  <thead>\n",
              "    <tr style=\"text-align: right;\">\n",
              "      <th></th>\n",
              "      <th>time</th>\n",
              "      <th>lp_id</th>\n",
              "      <th>pct_access</th>\n",
              "      <th>engagement_index</th>\n",
              "      <th>district_id</th>\n",
              "    </tr>\n",
              "  </thead>\n",
              "  <tbody>\n",
              "    <tr>\n",
              "      <th>0</th>\n",
              "      <td>2020-01-01</td>\n",
              "      <td>53627.0</td>\n",
              "      <td>0.00</td>\n",
              "      <td>NaN</td>\n",
              "      <td>3322</td>\n",
              "    </tr>\n",
              "    <tr>\n",
              "      <th>1</th>\n",
              "      <td>2020-01-01</td>\n",
              "      <td>13591.0</td>\n",
              "      <td>0.00</td>\n",
              "      <td>0.04</td>\n",
              "      <td>3322</td>\n",
              "    </tr>\n",
              "    <tr>\n",
              "      <th>2</th>\n",
              "      <td>2020-01-01</td>\n",
              "      <td>49050.0</td>\n",
              "      <td>0.00</td>\n",
              "      <td>0.12</td>\n",
              "      <td>3322</td>\n",
              "    </tr>\n",
              "    <tr>\n",
              "      <th>3</th>\n",
              "      <td>2020-01-01</td>\n",
              "      <td>98265.0</td>\n",
              "      <td>0.02</td>\n",
              "      <td>0.76</td>\n",
              "      <td>3322</td>\n",
              "    </tr>\n",
              "    <tr>\n",
              "      <th>4</th>\n",
              "      <td>2020-01-01</td>\n",
              "      <td>49785.0</td>\n",
              "      <td>0.01</td>\n",
              "      <td>0.16</td>\n",
              "      <td>3322</td>\n",
              "    </tr>\n",
              "  </tbody>\n",
              "</table>\n",
              "</div>"
            ],
            "text/plain": [
              "         time    lp_id  pct_access  engagement_index district_id\n",
              "0  2020-01-01  53627.0        0.00               NaN        3322\n",
              "1  2020-01-01  13591.0        0.00              0.04        3322\n",
              "2  2020-01-01  49050.0        0.00              0.12        3322\n",
              "3  2020-01-01  98265.0        0.02              0.76        3322\n",
              "4  2020-01-01  49785.0        0.01              0.16        3322"
            ]
          },
          "metadata": {},
          "execution_count": 62
        }
      ]
    },
    {
      "cell_type": "code",
      "metadata": {
        "id": "90IgmicWVh9I"
      },
      "source": [
        "districts = pd.read_csv(\"districts_info.csv\")\n",
        "products = pd.read_csv(\"products_info.csv\")"
      ],
      "execution_count": 51,
      "outputs": []
    },
    {
      "cell_type": "code",
      "metadata": {
        "colab": {
          "base_uri": "https://localhost:8080/"
        },
        "id": "4tFd-ysjz1w8",
        "outputId": "15c402ca-8844-4960-f75a-3f3cdef4b99a"
      },
      "source": [
        "print(districts.shape)\n",
        "print(products.shape)"
      ],
      "execution_count": 52,
      "outputs": [
        {
          "output_type": "stream",
          "text": [
            "(233, 7)\n",
            "(372, 6)\n"
          ],
          "name": "stdout"
        }
      ]
    },
    {
      "cell_type": "code",
      "metadata": {
        "colab": {
          "base_uri": "https://localhost:8080/",
          "height": 204
        },
        "id": "hhpZmYRh07J_",
        "outputId": "ec27c71b-d40a-43b2-8c2c-de6028f5ce2a"
      },
      "source": [
        "districts.head(5)"
      ],
      "execution_count": 53,
      "outputs": [
        {
          "output_type": "execute_result",
          "data": {
            "text/html": [
              "<div>\n",
              "<style scoped>\n",
              "    .dataframe tbody tr th:only-of-type {\n",
              "        vertical-align: middle;\n",
              "    }\n",
              "\n",
              "    .dataframe tbody tr th {\n",
              "        vertical-align: top;\n",
              "    }\n",
              "\n",
              "    .dataframe thead th {\n",
              "        text-align: right;\n",
              "    }\n",
              "</style>\n",
              "<table border=\"1\" class=\"dataframe\">\n",
              "  <thead>\n",
              "    <tr style=\"text-align: right;\">\n",
              "      <th></th>\n",
              "      <th>district_id</th>\n",
              "      <th>state</th>\n",
              "      <th>locale</th>\n",
              "      <th>pct_black/hispanic</th>\n",
              "      <th>pct_free/reduced</th>\n",
              "      <th>county_connections_ratio</th>\n",
              "      <th>pp_total_raw</th>\n",
              "    </tr>\n",
              "  </thead>\n",
              "  <tbody>\n",
              "    <tr>\n",
              "      <th>0</th>\n",
              "      <td>8815</td>\n",
              "      <td>Illinois</td>\n",
              "      <td>Suburb</td>\n",
              "      <td>[0, 0.2[</td>\n",
              "      <td>[0, 0.2[</td>\n",
              "      <td>[0.18, 1[</td>\n",
              "      <td>[14000, 16000[</td>\n",
              "    </tr>\n",
              "    <tr>\n",
              "      <th>1</th>\n",
              "      <td>2685</td>\n",
              "      <td>NaN</td>\n",
              "      <td>NaN</td>\n",
              "      <td>NaN</td>\n",
              "      <td>NaN</td>\n",
              "      <td>NaN</td>\n",
              "      <td>NaN</td>\n",
              "    </tr>\n",
              "    <tr>\n",
              "      <th>2</th>\n",
              "      <td>4921</td>\n",
              "      <td>Utah</td>\n",
              "      <td>Suburb</td>\n",
              "      <td>[0, 0.2[</td>\n",
              "      <td>[0.2, 0.4[</td>\n",
              "      <td>[0.18, 1[</td>\n",
              "      <td>[6000, 8000[</td>\n",
              "    </tr>\n",
              "    <tr>\n",
              "      <th>3</th>\n",
              "      <td>3188</td>\n",
              "      <td>NaN</td>\n",
              "      <td>NaN</td>\n",
              "      <td>NaN</td>\n",
              "      <td>NaN</td>\n",
              "      <td>NaN</td>\n",
              "      <td>NaN</td>\n",
              "    </tr>\n",
              "    <tr>\n",
              "      <th>4</th>\n",
              "      <td>2238</td>\n",
              "      <td>NaN</td>\n",
              "      <td>NaN</td>\n",
              "      <td>NaN</td>\n",
              "      <td>NaN</td>\n",
              "      <td>NaN</td>\n",
              "      <td>NaN</td>\n",
              "    </tr>\n",
              "  </tbody>\n",
              "</table>\n",
              "</div>"
            ],
            "text/plain": [
              "   district_id     state  ... county_connections_ratio    pp_total_raw\n",
              "0         8815  Illinois  ...                [0.18, 1[  [14000, 16000[\n",
              "1         2685       NaN  ...                      NaN             NaN\n",
              "2         4921      Utah  ...                [0.18, 1[    [6000, 8000[\n",
              "3         3188       NaN  ...                      NaN             NaN\n",
              "4         2238       NaN  ...                      NaN             NaN\n",
              "\n",
              "[5 rows x 7 columns]"
            ]
          },
          "metadata": {},
          "execution_count": 53
        }
      ]
    },
    {
      "cell_type": "code",
      "metadata": {
        "colab": {
          "base_uri": "https://localhost:8080/",
          "height": 255
        },
        "id": "PbRrDhRE1LKt",
        "outputId": "32cbc958-aef1-4f89-be5b-c7362ac64694"
      },
      "source": [
        "products.head(5)"
      ],
      "execution_count": 27,
      "outputs": [
        {
          "output_type": "execute_result",
          "data": {
            "text/html": [
              "<div>\n",
              "<style scoped>\n",
              "    .dataframe tbody tr th:only-of-type {\n",
              "        vertical-align: middle;\n",
              "    }\n",
              "\n",
              "    .dataframe tbody tr th {\n",
              "        vertical-align: top;\n",
              "    }\n",
              "\n",
              "    .dataframe thead th {\n",
              "        text-align: right;\n",
              "    }\n",
              "</style>\n",
              "<table border=\"1\" class=\"dataframe\">\n",
              "  <thead>\n",
              "    <tr style=\"text-align: right;\">\n",
              "      <th></th>\n",
              "      <th>LP ID</th>\n",
              "      <th>URL</th>\n",
              "      <th>Product Name</th>\n",
              "      <th>Provider/Company Name</th>\n",
              "      <th>Sector(s)</th>\n",
              "      <th>Primary Essential Function</th>\n",
              "    </tr>\n",
              "  </thead>\n",
              "  <tbody>\n",
              "    <tr>\n",
              "      <th>0</th>\n",
              "      <td>13117</td>\n",
              "      <td>https://www.splashmath.com</td>\n",
              "      <td>SplashLearn</td>\n",
              "      <td>StudyPad Inc.</td>\n",
              "      <td>PreK-12</td>\n",
              "      <td>LC - Digital Learning Platforms</td>\n",
              "    </tr>\n",
              "    <tr>\n",
              "      <th>1</th>\n",
              "      <td>66933</td>\n",
              "      <td>https://abcmouse.com</td>\n",
              "      <td>ABCmouse.com</td>\n",
              "      <td>Age of Learning, Inc</td>\n",
              "      <td>PreK-12</td>\n",
              "      <td>LC - Digital Learning Platforms</td>\n",
              "    </tr>\n",
              "    <tr>\n",
              "      <th>2</th>\n",
              "      <td>50479</td>\n",
              "      <td>https://www.abcya.com</td>\n",
              "      <td>ABCya!</td>\n",
              "      <td>ABCya.com, LLC</td>\n",
              "      <td>PreK-12</td>\n",
              "      <td>LC - Sites, Resources &amp; Reference - Games &amp; Si...</td>\n",
              "    </tr>\n",
              "    <tr>\n",
              "      <th>3</th>\n",
              "      <td>92993</td>\n",
              "      <td>http://www.aleks.com/</td>\n",
              "      <td>ALEKS</td>\n",
              "      <td>McGraw-Hill PreK-12</td>\n",
              "      <td>PreK-12; Higher Ed</td>\n",
              "      <td>LC - Digital Learning Platforms</td>\n",
              "    </tr>\n",
              "    <tr>\n",
              "      <th>4</th>\n",
              "      <td>73104</td>\n",
              "      <td>https://www.achieve3000.com/</td>\n",
              "      <td>Achieve3000</td>\n",
              "      <td>Achieve3000</td>\n",
              "      <td>PreK-12</td>\n",
              "      <td>LC - Digital Learning Platforms</td>\n",
              "    </tr>\n",
              "  </tbody>\n",
              "</table>\n",
              "</div>"
            ],
            "text/plain": [
              "   LP ID  ...                         Primary Essential Function\n",
              "0  13117  ...                    LC - Digital Learning Platforms\n",
              "1  66933  ...                    LC - Digital Learning Platforms\n",
              "2  50479  ...  LC - Sites, Resources & Reference - Games & Si...\n",
              "3  92993  ...                    LC - Digital Learning Platforms\n",
              "4  73104  ...                    LC - Digital Learning Platforms\n",
              "\n",
              "[5 rows x 6 columns]"
            ]
          },
          "metadata": {},
          "execution_count": 27
        }
      ]
    },
    {
      "cell_type": "markdown",
      "metadata": {
        "id": "NU4iDLsmA0bg"
      },
      "source": [
        "## Data cleaning and Preprocessing\n",
        "\n",
        "\n",
        "1.   Work with missing values\n",
        "2.   Get dummies sectors \n",
        "\n",
        "\n"
      ]
    },
    {
      "cell_type": "code",
      "metadata": {
        "id": "bs4V5H_HC3XK"
      },
      "source": [
        "print(districts.info())\n",
        "print(engagement.info())\n",
        "print(products.info())"
      ],
      "execution_count": null,
      "outputs": []
    },
    {
      "cell_type": "code",
      "metadata": {
        "colab": {
          "base_uri": "https://localhost:8080/",
          "height": 657
        },
        "id": "ixV199aKy2pm",
        "outputId": "17d341be-be65-4498-8672-ae1b7207b24f"
      },
      "source": [
        "#work with missing values in districts\n",
        "districts.isnull().sum()/len(districts)\n",
        "districts[districts.state.notna()].reset_index(drop=True)"
      ],
      "execution_count": 54,
      "outputs": [
        {
          "output_type": "stream",
          "text": [
            "<class 'pandas.core.frame.DataFrame'>\n",
            "RangeIndex: 233 entries, 0 to 232\n",
            "Data columns (total 7 columns):\n",
            " #   Column                    Non-Null Count  Dtype \n",
            "---  ------                    --------------  ----- \n",
            " 0   district_id               233 non-null    int64 \n",
            " 1   state                     176 non-null    object\n",
            " 2   locale                    176 non-null    object\n",
            " 3   pct_black/hispanic        176 non-null    object\n",
            " 4   pct_free/reduced          148 non-null    object\n",
            " 5   county_connections_ratio  162 non-null    object\n",
            " 6   pp_total_raw              118 non-null    object\n",
            "dtypes: int64(1), object(6)\n",
            "memory usage: 12.9+ KB\n"
          ],
          "name": "stdout"
        },
        {
          "output_type": "execute_result",
          "data": {
            "text/html": [
              "<div>\n",
              "<style scoped>\n",
              "    .dataframe tbody tr th:only-of-type {\n",
              "        vertical-align: middle;\n",
              "    }\n",
              "\n",
              "    .dataframe tbody tr th {\n",
              "        vertical-align: top;\n",
              "    }\n",
              "\n",
              "    .dataframe thead th {\n",
              "        text-align: right;\n",
              "    }\n",
              "</style>\n",
              "<table border=\"1\" class=\"dataframe\">\n",
              "  <thead>\n",
              "    <tr style=\"text-align: right;\">\n",
              "      <th></th>\n",
              "      <th>district_id</th>\n",
              "      <th>state</th>\n",
              "      <th>locale</th>\n",
              "      <th>pct_black/hispanic</th>\n",
              "      <th>pct_free/reduced</th>\n",
              "      <th>county_connections_ratio</th>\n",
              "      <th>pp_total_raw</th>\n",
              "    </tr>\n",
              "  </thead>\n",
              "  <tbody>\n",
              "    <tr>\n",
              "      <th>0</th>\n",
              "      <td>8815</td>\n",
              "      <td>Illinois</td>\n",
              "      <td>Suburb</td>\n",
              "      <td>[0, 0.2[</td>\n",
              "      <td>[0, 0.2[</td>\n",
              "      <td>[0.18, 1[</td>\n",
              "      <td>[14000, 16000[</td>\n",
              "    </tr>\n",
              "    <tr>\n",
              "      <th>1</th>\n",
              "      <td>4921</td>\n",
              "      <td>Utah</td>\n",
              "      <td>Suburb</td>\n",
              "      <td>[0, 0.2[</td>\n",
              "      <td>[0.2, 0.4[</td>\n",
              "      <td>[0.18, 1[</td>\n",
              "      <td>[6000, 8000[</td>\n",
              "    </tr>\n",
              "    <tr>\n",
              "      <th>2</th>\n",
              "      <td>5987</td>\n",
              "      <td>Wisconsin</td>\n",
              "      <td>Suburb</td>\n",
              "      <td>[0, 0.2[</td>\n",
              "      <td>[0, 0.2[</td>\n",
              "      <td>[0.18, 1[</td>\n",
              "      <td>[10000, 12000[</td>\n",
              "    </tr>\n",
              "    <tr>\n",
              "      <th>3</th>\n",
              "      <td>3710</td>\n",
              "      <td>Utah</td>\n",
              "      <td>Suburb</td>\n",
              "      <td>[0, 0.2[</td>\n",
              "      <td>[0.4, 0.6[</td>\n",
              "      <td>[0.18, 1[</td>\n",
              "      <td>[6000, 8000[</td>\n",
              "    </tr>\n",
              "    <tr>\n",
              "      <th>4</th>\n",
              "      <td>7177</td>\n",
              "      <td>North Carolina</td>\n",
              "      <td>Suburb</td>\n",
              "      <td>[0.2, 0.4[</td>\n",
              "      <td>[0.2, 0.4[</td>\n",
              "      <td>[0.18, 1[</td>\n",
              "      <td>[8000, 10000[</td>\n",
              "    </tr>\n",
              "    <tr>\n",
              "      <th>...</th>\n",
              "      <td>...</td>\n",
              "      <td>...</td>\n",
              "      <td>...</td>\n",
              "      <td>...</td>\n",
              "      <td>...</td>\n",
              "      <td>...</td>\n",
              "      <td>...</td>\n",
              "    </tr>\n",
              "    <tr>\n",
              "      <th>171</th>\n",
              "      <td>9515</td>\n",
              "      <td>New York</td>\n",
              "      <td>Rural</td>\n",
              "      <td>[0, 0.2[</td>\n",
              "      <td>[0.4, 0.6[</td>\n",
              "      <td>[0.18, 1[</td>\n",
              "      <td>[18000, 20000[</td>\n",
              "    </tr>\n",
              "    <tr>\n",
              "      <th>172</th>\n",
              "      <td>8103</td>\n",
              "      <td>Tennessee</td>\n",
              "      <td>Rural</td>\n",
              "      <td>[0.2, 0.4[</td>\n",
              "      <td>NaN</td>\n",
              "      <td>[0.18, 1[</td>\n",
              "      <td>[8000, 10000[</td>\n",
              "    </tr>\n",
              "    <tr>\n",
              "      <th>173</th>\n",
              "      <td>4929</td>\n",
              "      <td>Virginia</td>\n",
              "      <td>Rural</td>\n",
              "      <td>[0, 0.2[</td>\n",
              "      <td>[0.4, 0.6[</td>\n",
              "      <td>[0.18, 1[</td>\n",
              "      <td>[12000, 14000[</td>\n",
              "    </tr>\n",
              "    <tr>\n",
              "      <th>174</th>\n",
              "      <td>7975</td>\n",
              "      <td>California</td>\n",
              "      <td>City</td>\n",
              "      <td>[0.6, 0.8[</td>\n",
              "      <td>[0.6, 0.8[</td>\n",
              "      <td>[0.18, 1[</td>\n",
              "      <td>NaN</td>\n",
              "    </tr>\n",
              "    <tr>\n",
              "      <th>175</th>\n",
              "      <td>7164</td>\n",
              "      <td>California</td>\n",
              "      <td>City</td>\n",
              "      <td>[0.6, 0.8[</td>\n",
              "      <td>[0.6, 0.8[</td>\n",
              "      <td>[0.18, 1[</td>\n",
              "      <td>NaN</td>\n",
              "    </tr>\n",
              "  </tbody>\n",
              "</table>\n",
              "<p>176 rows × 7 columns</p>\n",
              "</div>"
            ],
            "text/plain": [
              "     district_id           state  ... county_connections_ratio    pp_total_raw\n",
              "0           8815        Illinois  ...                [0.18, 1[  [14000, 16000[\n",
              "1           4921            Utah  ...                [0.18, 1[    [6000, 8000[\n",
              "2           5987       Wisconsin  ...                [0.18, 1[  [10000, 12000[\n",
              "3           3710            Utah  ...                [0.18, 1[    [6000, 8000[\n",
              "4           7177  North Carolina  ...                [0.18, 1[   [8000, 10000[\n",
              "..           ...             ...  ...                      ...             ...\n",
              "171         9515        New York  ...                [0.18, 1[  [18000, 20000[\n",
              "172         8103       Tennessee  ...                [0.18, 1[   [8000, 10000[\n",
              "173         4929        Virginia  ...                [0.18, 1[  [12000, 14000[\n",
              "174         7975      California  ...                [0.18, 1[             NaN\n",
              "175         7164      California  ...                [0.18, 1[             NaN\n",
              "\n",
              "[176 rows x 7 columns]"
            ]
          },
          "metadata": {},
          "execution_count": 54
        }
      ]
    },
    {
      "cell_type": "code",
      "metadata": {
        "colab": {
          "base_uri": "https://localhost:8080/"
        },
        "id": "cBjW-lqQDXsy",
        "outputId": "d7dce0df-a9a1-4527-a2aa-7b78cb6127fc"
      },
      "source": [
        "# convert datetime type, district_id to int64 (same as districts)\n",
        "engagement['time'] = pd.to_datetime(engagement['time'])\n",
        "engagement['district_id']= engagement['district_id'].astype(str).astype(int)"
      ],
      "execution_count": 27,
      "outputs": [
        {
          "output_type": "stream",
          "text": [
            "<class 'pandas.core.frame.DataFrame'>\n",
            "RangeIndex: 22324190 entries, 0 to 22324189\n",
            "Data columns (total 5 columns):\n",
            " #   Column            Dtype         \n",
            "---  ------            -----         \n",
            " 0   time              datetime64[ns]\n",
            " 1   lp_id             float64       \n",
            " 2   pct_access        float64       \n",
            " 3   engagement_index  float64       \n",
            " 4   district_id       object        \n",
            "dtypes: datetime64[ns](1), float64(3), object(1)\n",
            "memory usage: 851.6+ MB\n"
          ],
          "name": "stdout"
        },
        {
          "output_type": "execute_result",
          "data": {
            "text/plain": [
              "time                0.000000\n",
              "lp_id               0.000024\n",
              "pct_access          0.000602\n",
              "engagement_index    0.240923\n",
              "district_id         0.000000\n",
              "dtype: float64"
            ]
          },
          "metadata": {},
          "execution_count": 27
        }
      ]
    },
    {
      "cell_type": "code",
      "metadata": {
        "id": "Xn3p_l5SB8Il"
      },
      "source": [
        "# get dummies sector for products.\n",
        "sectors = products['Sector(s)'].str.get_dummies(sep=\"; \")\n",
        "sectors.columns = [f\"sector_{re.sub(' ', '', c)}\" for c in sectors.columns]\n",
        "products = products.join(sectors)\n",
        "products.drop(\"Sector(s)\", axis=1, inplace=True)\n",
        "\n",
        "del sectors"
      ],
      "execution_count": null,
      "outputs": []
    },
    {
      "cell_type": "code",
      "metadata": {
        "colab": {
          "base_uri": "https://localhost:8080/",
          "height": 881
        },
        "id": "dDDpD3dvLQP4",
        "outputId": "59a2c56d-0d4a-4532-cdf7-b30e5c875a37"
      },
      "source": [
        "products"
      ],
      "execution_count": 63,
      "outputs": [
        {
          "output_type": "execute_result",
          "data": {
            "text/html": [
              "<div>\n",
              "<style scoped>\n",
              "    .dataframe tbody tr th:only-of-type {\n",
              "        vertical-align: middle;\n",
              "    }\n",
              "\n",
              "    .dataframe tbody tr th {\n",
              "        vertical-align: top;\n",
              "    }\n",
              "\n",
              "    .dataframe thead th {\n",
              "        text-align: right;\n",
              "    }\n",
              "</style>\n",
              "<table border=\"1\" class=\"dataframe\">\n",
              "  <thead>\n",
              "    <tr style=\"text-align: right;\">\n",
              "      <th></th>\n",
              "      <th>LP ID</th>\n",
              "      <th>URL</th>\n",
              "      <th>Product Name</th>\n",
              "      <th>Provider/Company Name</th>\n",
              "      <th>Primary Essential Function</th>\n",
              "      <th>sector_Corporate</th>\n",
              "      <th>sector_HigherEd</th>\n",
              "      <th>sector_PreK-12</th>\n",
              "    </tr>\n",
              "  </thead>\n",
              "  <tbody>\n",
              "    <tr>\n",
              "      <th>0</th>\n",
              "      <td>13117</td>\n",
              "      <td>https://www.splashmath.com</td>\n",
              "      <td>SplashLearn</td>\n",
              "      <td>StudyPad Inc.</td>\n",
              "      <td>LC - Digital Learning Platforms</td>\n",
              "      <td>0</td>\n",
              "      <td>0</td>\n",
              "      <td>1</td>\n",
              "    </tr>\n",
              "    <tr>\n",
              "      <th>1</th>\n",
              "      <td>66933</td>\n",
              "      <td>https://abcmouse.com</td>\n",
              "      <td>ABCmouse.com</td>\n",
              "      <td>Age of Learning, Inc</td>\n",
              "      <td>LC - Digital Learning Platforms</td>\n",
              "      <td>0</td>\n",
              "      <td>0</td>\n",
              "      <td>1</td>\n",
              "    </tr>\n",
              "    <tr>\n",
              "      <th>2</th>\n",
              "      <td>50479</td>\n",
              "      <td>https://www.abcya.com</td>\n",
              "      <td>ABCya!</td>\n",
              "      <td>ABCya.com, LLC</td>\n",
              "      <td>LC - Sites, Resources &amp; Reference - Games &amp; Si...</td>\n",
              "      <td>0</td>\n",
              "      <td>0</td>\n",
              "      <td>1</td>\n",
              "    </tr>\n",
              "    <tr>\n",
              "      <th>3</th>\n",
              "      <td>92993</td>\n",
              "      <td>http://www.aleks.com/</td>\n",
              "      <td>ALEKS</td>\n",
              "      <td>McGraw-Hill PreK-12</td>\n",
              "      <td>LC - Digital Learning Platforms</td>\n",
              "      <td>0</td>\n",
              "      <td>1</td>\n",
              "      <td>1</td>\n",
              "    </tr>\n",
              "    <tr>\n",
              "      <th>4</th>\n",
              "      <td>73104</td>\n",
              "      <td>https://www.achieve3000.com/</td>\n",
              "      <td>Achieve3000</td>\n",
              "      <td>Achieve3000</td>\n",
              "      <td>LC - Digital Learning Platforms</td>\n",
              "      <td>0</td>\n",
              "      <td>0</td>\n",
              "      <td>1</td>\n",
              "    </tr>\n",
              "    <tr>\n",
              "      <th>...</th>\n",
              "      <td>...</td>\n",
              "      <td>...</td>\n",
              "      <td>...</td>\n",
              "      <td>...</td>\n",
              "      <td>...</td>\n",
              "      <td>...</td>\n",
              "      <td>...</td>\n",
              "      <td>...</td>\n",
              "    </tr>\n",
              "    <tr>\n",
              "      <th>367</th>\n",
              "      <td>88065</td>\n",
              "      <td>https://dochub.com/</td>\n",
              "      <td>DocHub</td>\n",
              "      <td>DocHub</td>\n",
              "      <td>SDO - Other</td>\n",
              "      <td>1</td>\n",
              "      <td>1</td>\n",
              "      <td>1</td>\n",
              "    </tr>\n",
              "    <tr>\n",
              "      <th>368</th>\n",
              "      <td>37805</td>\n",
              "      <td>http://google.com/slides/about/</td>\n",
              "      <td>Google Slides</td>\n",
              "      <td>Google LLC</td>\n",
              "      <td>LC - Content Creation &amp; Curation</td>\n",
              "      <td>1</td>\n",
              "      <td>1</td>\n",
              "      <td>1</td>\n",
              "    </tr>\n",
              "    <tr>\n",
              "      <th>369</th>\n",
              "      <td>32555</td>\n",
              "      <td>http://www.innersloth.com/gameAmongUs.php</td>\n",
              "      <td>Among Us</td>\n",
              "      <td>InnerSloth</td>\n",
              "      <td>LC - Sites, Resources &amp; Reference - Games &amp; Si...</td>\n",
              "      <td>0</td>\n",
              "      <td>1</td>\n",
              "      <td>1</td>\n",
              "    </tr>\n",
              "    <tr>\n",
              "      <th>370</th>\n",
              "      <td>87841</td>\n",
              "      <td>http://edpuzzle.com</td>\n",
              "      <td>Edpuzzle - Free (Basic Plan)</td>\n",
              "      <td>EDpuzzle Inc.</td>\n",
              "      <td>NaN</td>\n",
              "      <td>0</td>\n",
              "      <td>0</td>\n",
              "      <td>0</td>\n",
              "    </tr>\n",
              "    <tr>\n",
              "      <th>371</th>\n",
              "      <td>36254</td>\n",
              "      <td>http://www.truenorthlogic.com/</td>\n",
              "      <td>True North Logic</td>\n",
              "      <td>NaN</td>\n",
              "      <td>NaN</td>\n",
              "      <td>0</td>\n",
              "      <td>0</td>\n",
              "      <td>0</td>\n",
              "    </tr>\n",
              "  </tbody>\n",
              "</table>\n",
              "<p>372 rows × 8 columns</p>\n",
              "</div>"
            ],
            "text/plain": [
              "     LP ID  ... sector_PreK-12\n",
              "0    13117  ...              1\n",
              "1    66933  ...              1\n",
              "2    50479  ...              1\n",
              "3    92993  ...              1\n",
              "4    73104  ...              1\n",
              "..     ...  ...            ...\n",
              "367  88065  ...              1\n",
              "368  37805  ...              1\n",
              "369  32555  ...              1\n",
              "370  87841  ...              0\n",
              "371  36254  ...              0\n",
              "\n",
              "[372 rows x 8 columns]"
            ]
          },
          "metadata": {},
          "execution_count": 63
        }
      ]
    },
    {
      "cell_type": "markdown",
      "metadata": {
        "id": "D3u4bhjlOL8J"
      },
      "source": [
        "## **Exploratory Data Analysis**"
      ]
    },
    {
      "cell_type": "markdown",
      "metadata": {
        "id": "BM4kp42bOXNB"
      },
      "source": [
        "### 1. Districts\n"
      ]
    },
    {
      "cell_type": "code",
      "metadata": {
        "colab": {
          "base_uri": "https://localhost:8080/",
          "height": 204
        },
        "id": "14VLPtLNOVkY",
        "outputId": "d239a01d-f631-47bc-d222-5c08761ee196"
      },
      "source": [
        "districts.tail(5)"
      ],
      "execution_count": 64,
      "outputs": [
        {
          "output_type": "execute_result",
          "data": {
            "text/html": [
              "<div>\n",
              "<style scoped>\n",
              "    .dataframe tbody tr th:only-of-type {\n",
              "        vertical-align: middle;\n",
              "    }\n",
              "\n",
              "    .dataframe tbody tr th {\n",
              "        vertical-align: top;\n",
              "    }\n",
              "\n",
              "    .dataframe thead th {\n",
              "        text-align: right;\n",
              "    }\n",
              "</style>\n",
              "<table border=\"1\" class=\"dataframe\">\n",
              "  <thead>\n",
              "    <tr style=\"text-align: right;\">\n",
              "      <th></th>\n",
              "      <th>district_id</th>\n",
              "      <th>state</th>\n",
              "      <th>locale</th>\n",
              "      <th>pct_black/hispanic</th>\n",
              "      <th>pct_free/reduced</th>\n",
              "      <th>county_connections_ratio</th>\n",
              "      <th>pp_total_raw</th>\n",
              "    </tr>\n",
              "  </thead>\n",
              "  <tbody>\n",
              "    <tr>\n",
              "      <th>228</th>\n",
              "      <td>9515</td>\n",
              "      <td>New York</td>\n",
              "      <td>Rural</td>\n",
              "      <td>[0, 0.2[</td>\n",
              "      <td>[0.4, 0.6[</td>\n",
              "      <td>[0.18, 1[</td>\n",
              "      <td>[18000, 20000[</td>\n",
              "    </tr>\n",
              "    <tr>\n",
              "      <th>229</th>\n",
              "      <td>8103</td>\n",
              "      <td>Tennessee</td>\n",
              "      <td>Rural</td>\n",
              "      <td>[0.2, 0.4[</td>\n",
              "      <td>NaN</td>\n",
              "      <td>[0.18, 1[</td>\n",
              "      <td>[8000, 10000[</td>\n",
              "    </tr>\n",
              "    <tr>\n",
              "      <th>230</th>\n",
              "      <td>4929</td>\n",
              "      <td>Virginia</td>\n",
              "      <td>Rural</td>\n",
              "      <td>[0, 0.2[</td>\n",
              "      <td>[0.4, 0.6[</td>\n",
              "      <td>[0.18, 1[</td>\n",
              "      <td>[12000, 14000[</td>\n",
              "    </tr>\n",
              "    <tr>\n",
              "      <th>231</th>\n",
              "      <td>7975</td>\n",
              "      <td>California</td>\n",
              "      <td>City</td>\n",
              "      <td>[0.6, 0.8[</td>\n",
              "      <td>[0.6, 0.8[</td>\n",
              "      <td>[0.18, 1[</td>\n",
              "      <td>NaN</td>\n",
              "    </tr>\n",
              "    <tr>\n",
              "      <th>232</th>\n",
              "      <td>7164</td>\n",
              "      <td>California</td>\n",
              "      <td>City</td>\n",
              "      <td>[0.6, 0.8[</td>\n",
              "      <td>[0.6, 0.8[</td>\n",
              "      <td>[0.18, 1[</td>\n",
              "      <td>NaN</td>\n",
              "    </tr>\n",
              "  </tbody>\n",
              "</table>\n",
              "</div>"
            ],
            "text/plain": [
              "     district_id       state  ... county_connections_ratio    pp_total_raw\n",
              "228         9515    New York  ...                [0.18, 1[  [18000, 20000[\n",
              "229         8103   Tennessee  ...                [0.18, 1[   [8000, 10000[\n",
              "230         4929    Virginia  ...                [0.18, 1[  [12000, 14000[\n",
              "231         7975  California  ...                [0.18, 1[             NaN\n",
              "232         7164  California  ...                [0.18, 1[             NaN\n",
              "\n",
              "[5 rows x 7 columns]"
            ]
          },
          "metadata": {},
          "execution_count": 64
        }
      ]
    },
    {
      "cell_type": "code",
      "metadata": {
        "id": "oZGNDTIvQAwG"
      },
      "source": [
        ""
      ],
      "execution_count": null,
      "outputs": []
    }
  ]
}