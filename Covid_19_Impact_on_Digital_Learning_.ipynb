{
  "nbformat": 4,
  "nbformat_minor": 0,
  "metadata": {
    "colab": {
      "name": "Covid 19 Impact on Digital Learning .ipynb",
      "provenance": [],
      "authorship_tag": "ABX9TyPA+b7J4fSQsjjMO4XL8mf6",
      "include_colab_link": true
    },
    "kernelspec": {
      "name": "python3",
      "display_name": "Python 3"
    },
    "language_info": {
      "name": "python"
    }
  },
  "cells": [
    {
      "cell_type": "markdown",
      "metadata": {
        "id": "view-in-github",
        "colab_type": "text"
      },
      "source": [
        "<a href=\"https://colab.research.google.com/github/tramyynt/COVID-19-impact-on-Digital-Learning-/blob/main/Covid_19_Impact_on_Digital_Learning_.ipynb\" target=\"_parent\"><img src=\"https://colab.research.google.com/assets/colab-badge.svg\" alt=\"Open In Colab\"/></a>"
      ]
    },
    {
      "cell_type": "markdown",
      "metadata": {
        "id": "JMmHAbFTwRIE"
      },
      "source": [
        "\n",
        "# **Covid Impact on Digital Learning**:\n",
        "This notebook is to uncover some trends in digital learning."
      ]
    },
    {
      "cell_type": "markdown",
      "metadata": {
        "id": "8f_z4sG32k1s"
      },
      "source": [
        "### **Problem Statement**\n",
        "The COVID-19 Pandemic has disrupted learning for more than 56 million students in the United States. In the Spring of 2020, most states and local governments across the U.S. closed educational institutions to stop the spread of the virus. In response, schools and teachers have attempted to reach students remotely through distance learning tools and digital platforms. Until today, concerns of the exacaberting digital divide and long-term learning loss among America’s most vulnerable learners continue to grow."
      ]
    },
    {
      "cell_type": "markdown",
      "metadata": {
        "id": "4fd_GrtBvbL-"
      },
      "source": [
        "### **What should focus on ?**\n",
        "\n",
        "\n",
        "1.   What is the picture of digital connectivity and engagement in 2020?\n",
        "2.   What is the effect of the COVID-19 pandemic on online and distance learning, and how might this also evolve in the future?\n",
        "3. How does student engagement with different types of education technology change over the course of the pandemic?\n",
        "4. How does student engagement with online learning platforms relate to different geography? Demographic context (e.g., race/ethnicity, ESL, learning disability)? Learning context? Socioeconomic status?\n",
        "5. Do certain state interventions, practices or policies (e.g., stimulus, reopening, eviction moratorium) correlate with the increase or decrease online engagement?\n",
        "\n",
        "\n",
        "\n",
        "\n"
      ]
    },
    {
      "cell_type": "markdown",
      "metadata": {
        "id": "e-dZo_dLxNqT"
      },
      "source": [
        "## Data Preparation\n",
        "\n",
        "\n",
        "1.   Import neccessary libs\n",
        "2.   Get data from Kaggle API \n",
        "\n"
      ]
    },
    {
      "cell_type": "code",
      "metadata": {
        "id": "nQQsR7XWzhjr"
      },
      "source": [
        "import numpy as np \n",
        "import pandas as pd\n",
        "\n",
        "import os\n",
        "import glob\n",
        "import matplotlib.pyplot as plt\n",
        "import seaborn as sns\n",
        "import re\n",
        "\n",
        "import plotly.express as px\n",
        "import plotly.graph_objects as go\n",
        "from plotly.subplots import make_subplots"
      ],
      "execution_count": 1,
      "outputs": []
    },
    {
      "cell_type": "code",
      "metadata": {
        "id": "qYauWMtU7b9j",
        "colab": {
          "base_uri": "https://localhost:8080/"
        },
        "outputId": "478cae43-22b4-44aa-8332-5446e36bc6cd"
      },
      "source": [
        "!pip install -U -q kaggle==1.5.8"
      ],
      "execution_count": 2,
      "outputs": [
        {
          "output_type": "stream",
          "name": "stdout",
          "text": [
            "\u001b[?25l\r\u001b[K     |█████▌                          | 10 kB 21.1 MB/s eta 0:00:01\r\u001b[K     |███████████                     | 20 kB 9.8 MB/s eta 0:00:01\r\u001b[K     |████████████████▋               | 30 kB 8.0 MB/s eta 0:00:01\r\u001b[K     |██████████████████████▏         | 40 kB 7.5 MB/s eta 0:00:01\r\u001b[K     |███████████████████████████▊    | 51 kB 4.0 MB/s eta 0:00:01\r\u001b[K     |████████████████████████████████| 59 kB 2.3 MB/s \n",
            "\u001b[?25h  Building wheel for kaggle (setup.py) ... \u001b[?25l\u001b[?25hdone\n",
            "  Building wheel for slugify (setup.py) ... \u001b[?25l\u001b[?25hdone\n"
          ]
        }
      ]
    },
    {
      "cell_type": "code",
      "metadata": {
        "colab": {
          "base_uri": "https://localhost:8080/"
        },
        "id": "7RqzAk7woqFP",
        "outputId": "d6739523-c658-4548-c7fc-b9f2cc6f78ef"
      },
      "source": [
        "!ls -la /root/"
      ],
      "execution_count": 21,
      "outputs": [
        {
          "output_type": "stream",
          "name": "stdout",
          "text": [
            "total 64\n",
            "drwx------ 1 root root 4096 Sep  4 19:33 .\n",
            "drwxr-xr-x 1 root root 4096 Sep  4 19:33 ..\n",
            "-r-xr-xr-x 1 root root 1169 Jan  1  2000 .bashrc\n",
            "drwxr-xr-x 1 root root 4096 Sep  4 19:27 .cache\n",
            "drwxr-xr-x 1 root root 4096 Sep  2 13:19 .config\n",
            "drwxr-xr-x 3 root root 4096 Sep  1 19:26 .gsutil\n",
            "drwxr-xr-x 5 root root 4096 Sep  2 13:19 .ipython\n",
            "drwx------ 2 root root 4096 Sep  2 13:19 .jupyter\n",
            "-rw-r--r-- 1 root root   66 Sep  4 19:32 .kaggle\n",
            "drwxr-xr-x 2 root root 4096 Sep  4 19:25 .keras\n",
            "drwx------ 1 root root 4096 Sep  2 13:19 .local\n",
            "drwxr-xr-x 4 root root 4096 Sep  2 13:19 .npm\n",
            "-rw-r--r-- 1 root root  148 Aug 17  2015 .profile\n",
            "-r-xr-xr-x 1 root root  254 Jan  1  2000 .tmux.conf\n"
          ]
        }
      ]
    },
    {
      "cell_type": "code",
      "metadata": {
        "id": "WQs5YJxWTZt6"
      },
      "source": [
        "!mkdir /root/.kaggle"
      ],
      "execution_count": 25,
      "outputs": []
    },
    {
      "cell_type": "code",
      "metadata": {
        "id": "75PhHmoE6CW4"
      },
      "source": [
        "# MUST UPLOAD kaggle.json FIRST: download kaggle.json by getting expired token and creating a new API token --> get a latest json file\n",
        "# move kaggle.json to /root/.kaggle\n",
        "!cp /kaggle.json /root/.kaggle\n",
        "!chmod 600 /root/.kaggle/kaggle.json"
      ],
      "execution_count": 27,
      "outputs": []
    },
    {
      "cell_type": "code",
      "metadata": {
        "colab": {
          "base_uri": "https://localhost:8080/"
        },
        "id": "FT8jx2NtAU74",
        "outputId": "a5e7978b-a849-4d12-efad-e99e0790acef"
      },
      "source": [
        "!kaggle competitions download -c \"learnplatform-covid19-impact-on-digital-learning\" "
      ],
      "execution_count": 28,
      "outputs": [
        {
          "output_type": "stream",
          "name": "stdout",
          "text": [
            "Downloading learnplatform-covid19-impact-on-digital-learning.zip to /content\n",
            " 97% 121M/124M [00:00<00:00, 129MB/s]\n",
            "100% 124M/124M [00:00<00:00, 134MB/s]\n"
          ]
        }
      ]
    },
    {
      "cell_type": "code",
      "metadata": {
        "colab": {
          "base_uri": "https://localhost:8080/"
        },
        "id": "YD6qreWuKWDS",
        "outputId": "0b0cf69a-872f-4725-d322-99711d8684df"
      },
      "source": [
        "# unzip data\n",
        "!unzip '*.zip'"
      ],
      "execution_count": 29,
      "outputs": [
        {
          "output_type": "stream",
          "name": "stdout",
          "text": [
            "Archive:  learnplatform-covid19-impact-on-digital-learning.zip\n",
            "  inflating: README.md               \n",
            "  inflating: districts_info.csv      \n",
            "  inflating: engagement_data/1000.csv  \n",
            "  inflating: engagement_data/1039.csv  \n",
            "  inflating: engagement_data/1044.csv  \n",
            "  inflating: engagement_data/1052.csv  \n",
            "  inflating: engagement_data/1131.csv  \n",
            "  inflating: engagement_data/1142.csv  \n",
            "  inflating: engagement_data/1179.csv  \n",
            "  inflating: engagement_data/1204.csv  \n",
            "  inflating: engagement_data/1270.csv  \n",
            "  inflating: engagement_data/1324.csv  \n",
            "  inflating: engagement_data/1444.csv  \n",
            "  inflating: engagement_data/1450.csv  \n",
            "  inflating: engagement_data/1470.csv  \n",
            "  inflating: engagement_data/1536.csv  \n",
            "  inflating: engagement_data/1549.csv  \n",
            "  inflating: engagement_data/1558.csv  \n",
            "  inflating: engagement_data/1570.csv  \n",
            "  inflating: engagement_data/1584.csv  \n",
            "  inflating: engagement_data/1624.csv  \n",
            "  inflating: engagement_data/1705.csv  \n",
            "  inflating: engagement_data/1712.csv  \n",
            "  inflating: engagement_data/1742.csv  \n",
            "  inflating: engagement_data/1772.csv  \n",
            "  inflating: engagement_data/1791.csv  \n",
            "  inflating: engagement_data/1857.csv  \n",
            "  inflating: engagement_data/1877.csv  \n",
            "  inflating: engagement_data/1904.csv  \n",
            "  inflating: engagement_data/1965.csv  \n",
            "  inflating: engagement_data/2017.csv  \n",
            "  inflating: engagement_data/2060.csv  \n",
            "  inflating: engagement_data/2074.csv  \n",
            "  inflating: engagement_data/2106.csv  \n",
            "  inflating: engagement_data/2130.csv  \n",
            "  inflating: engagement_data/2165.csv  \n",
            "  inflating: engagement_data/2167.csv  \n",
            "  inflating: engagement_data/2172.csv  \n",
            "  inflating: engagement_data/2201.csv  \n",
            "  inflating: engagement_data/2209.csv  \n",
            "  inflating: engagement_data/2238.csv  \n",
            "  inflating: engagement_data/2257.csv  \n",
            "  inflating: engagement_data/2285.csv  \n",
            "  inflating: engagement_data/2321.csv  \n",
            "  inflating: engagement_data/2339.csv  \n",
            "  inflating: engagement_data/2393.csv  \n",
            "  inflating: engagement_data/2439.csv  \n",
            "  inflating: engagement_data/2441.csv  \n",
            "  inflating: engagement_data/2517.csv  \n",
            "  inflating: engagement_data/2549.csv  \n",
            "  inflating: engagement_data/2567.csv  \n",
            "  inflating: engagement_data/2598.csv  \n",
            "  inflating: engagement_data/2601.csv  \n",
            "  inflating: engagement_data/2685.csv  \n",
            "  inflating: engagement_data/2729.csv  \n",
            "  inflating: engagement_data/2779.csv  \n",
            "  inflating: engagement_data/2870.csv  \n",
            "  inflating: engagement_data/2872.csv  \n",
            "  inflating: engagement_data/2940.csv  \n",
            "  inflating: engagement_data/2956.csv  \n",
            "  inflating: engagement_data/2991.csv  \n",
            "  inflating: engagement_data/3080.csv  \n",
            "  inflating: engagement_data/3160.csv  \n",
            "  inflating: engagement_data/3188.csv  \n",
            "  inflating: engagement_data/3222.csv  \n",
            "  inflating: engagement_data/3228.csv  \n",
            "  inflating: engagement_data/3248.csv  \n",
            "  inflating: engagement_data/3266.csv  \n",
            "  inflating: engagement_data/3301.csv  \n",
            "  inflating: engagement_data/3314.csv  \n",
            "  inflating: engagement_data/3322.csv  \n",
            "  inflating: engagement_data/3371.csv  \n",
            "  inflating: engagement_data/3390.csv  \n",
            "  inflating: engagement_data/3393.csv  \n",
            "  inflating: engagement_data/3412.csv  \n",
            "  inflating: engagement_data/3471.csv  \n",
            "  inflating: engagement_data/3550.csv  \n",
            "  inflating: engagement_data/3558.csv  \n",
            "  inflating: engagement_data/3580.csv  \n",
            "  inflating: engagement_data/3640.csv  \n",
            "  inflating: engagement_data/3668.csv  \n",
            "  inflating: engagement_data/3670.csv  \n",
            "  inflating: engagement_data/3692.csv  \n",
            "  inflating: engagement_data/3710.csv  \n",
            "  inflating: engagement_data/3732.csv  \n",
            "  inflating: engagement_data/3772.csv  \n",
            "  inflating: engagement_data/3864.csv  \n",
            "  inflating: engagement_data/3936.csv  \n",
            "  inflating: engagement_data/3959.csv  \n",
            "  inflating: engagement_data/3986.csv  \n",
            "  inflating: engagement_data/4029.csv  \n",
            "  inflating: engagement_data/4031.csv  \n",
            "  inflating: engagement_data/4051.csv  \n",
            "  inflating: engagement_data/4083.csv  \n",
            "  inflating: engagement_data/4165.csv  \n",
            "  inflating: engagement_data/4183.csv  \n",
            "  inflating: engagement_data/4203.csv  \n",
            "  inflating: engagement_data/4314.csv  \n",
            "  inflating: engagement_data/4348.csv  \n",
            "  inflating: engagement_data/4373.csv  \n",
            "  inflating: engagement_data/4408.csv  \n",
            "  inflating: engagement_data/4516.csv  \n",
            "  inflating: engagement_data/4520.csv  \n",
            "  inflating: engagement_data/4550.csv  \n",
            "  inflating: engagement_data/4569.csv  \n",
            "  inflating: engagement_data/4591.csv  \n",
            "  inflating: engagement_data/4602.csv  \n",
            "  inflating: engagement_data/4629.csv  \n",
            "  inflating: engagement_data/4666.csv  \n",
            "  inflating: engagement_data/4668.csv  \n",
            "  inflating: engagement_data/4683.csv  \n",
            "  inflating: engagement_data/4744.csv  \n",
            "  inflating: engagement_data/4749.csv  \n",
            "  inflating: engagement_data/4775.csv  \n",
            "  inflating: engagement_data/4808.csv  \n",
            "  inflating: engagement_data/4921.csv  \n",
            "  inflating: engagement_data/4929.csv  \n",
            "  inflating: engagement_data/4936.csv  \n",
            "  inflating: engagement_data/4937.csv  \n",
            "  inflating: engagement_data/4949.csv  \n",
            "  inflating: engagement_data/5006.csv  \n",
            "  inflating: engagement_data/5042.csv  \n",
            "  inflating: engagement_data/5057.csv  \n",
            "  inflating: engagement_data/5150.csv  \n",
            "  inflating: engagement_data/5231.csv  \n",
            "  inflating: engagement_data/5257.csv  \n",
            "  inflating: engagement_data/5380.csv  \n",
            "  inflating: engagement_data/5404.csv  \n",
            "  inflating: engagement_data/5422.csv  \n",
            "  inflating: engagement_data/5479.csv  \n",
            "  inflating: engagement_data/5510.csv  \n",
            "  inflating: engagement_data/5524.csv  \n",
            "  inflating: engagement_data/5527.csv  \n",
            "  inflating: engagement_data/5600.csv  \n",
            "  inflating: engagement_data/5604.csv  \n",
            "  inflating: engagement_data/5627.csv  \n",
            "  inflating: engagement_data/5802.csv  \n",
            "  inflating: engagement_data/5882.csv  \n",
            "  inflating: engagement_data/5890.csv  \n",
            "  inflating: engagement_data/5903.csv  \n",
            "  inflating: engagement_data/5934.csv  \n",
            "  inflating: engagement_data/5970.csv  \n",
            "  inflating: engagement_data/5987.csv  \n",
            "  inflating: engagement_data/6046.csv  \n",
            "  inflating: engagement_data/6049.csv  \n",
            "  inflating: engagement_data/6055.csv  \n",
            "  inflating: engagement_data/6066.csv  \n",
            "  inflating: engagement_data/6104.csv  \n",
            "  inflating: engagement_data/6131.csv  \n",
            "  inflating: engagement_data/6144.csv  \n",
            "  inflating: engagement_data/6165.csv  \n",
            "  inflating: engagement_data/6194.csv  \n",
            "  inflating: engagement_data/6250.csv  \n",
            "  inflating: engagement_data/6345.csv  \n",
            "  inflating: engagement_data/6418.csv  \n",
            "  inflating: engagement_data/6512.csv  \n",
            "  inflating: engagement_data/6577.csv  \n",
            "  inflating: engagement_data/6584.csv  \n",
            "  inflating: engagement_data/6640.csv  \n",
            "  inflating: engagement_data/6665.csv  \n",
            "  inflating: engagement_data/6721.csv  \n",
            "  inflating: engagement_data/6762.csv  \n",
            "  inflating: engagement_data/6774.csv  \n",
            "  inflating: engagement_data/6919.csv  \n",
            "  inflating: engagement_data/6998.csv  \n",
            "  inflating: engagement_data/7086.csv  \n",
            "  inflating: engagement_data/7164.csv  \n",
            "  inflating: engagement_data/7177.csv  \n",
            "  inflating: engagement_data/7305.csv  \n",
            "  inflating: engagement_data/7308.csv  \n",
            "  inflating: engagement_data/7342.csv  \n",
            "  inflating: engagement_data/7352.csv  \n",
            "  inflating: engagement_data/7387.csv  \n",
            "  inflating: engagement_data/7457.csv  \n",
            "  inflating: engagement_data/7541.csv  \n",
            "  inflating: engagement_data/7614.csv  \n",
            "  inflating: engagement_data/7660.csv  \n",
            "  inflating: engagement_data/7675.csv  \n",
            "  inflating: engagement_data/7723.csv  \n",
            "  inflating: engagement_data/7741.csv  \n",
            "  inflating: engagement_data/7752.csv  \n",
            "  inflating: engagement_data/7767.csv  \n",
            "  inflating: engagement_data/7785.csv  \n",
            "  inflating: engagement_data/7798.csv  \n",
            "  inflating: engagement_data/7829.csv  \n",
            "  inflating: engagement_data/7858.csv  \n",
            "  inflating: engagement_data/7964.csv  \n",
            "  inflating: engagement_data/7970.csv  \n",
            "  inflating: engagement_data/7975.csv  \n",
            "  inflating: engagement_data/7980.csv  \n",
            "  inflating: engagement_data/8017.csv  \n",
            "  inflating: engagement_data/8076.csv  \n",
            "  inflating: engagement_data/8103.csv  \n",
            "  inflating: engagement_data/8127.csv  \n",
            "  inflating: engagement_data/8160.csv  \n",
            "  inflating: engagement_data/8184.csv  \n",
            "  inflating: engagement_data/8256.csv  \n",
            "  inflating: engagement_data/8328.csv  \n",
            "  inflating: engagement_data/8425.csv  \n",
            "  inflating: engagement_data/8433.csv  \n",
            "  inflating: engagement_data/8515.csv  \n",
            "  inflating: engagement_data/8520.csv  \n",
            "  inflating: engagement_data/8539.csv  \n",
            "  inflating: engagement_data/8556.csv  \n",
            "  inflating: engagement_data/8685.csv  \n",
            "  inflating: engagement_data/8702.csv  \n",
            "  inflating: engagement_data/8723.csv  \n",
            "  inflating: engagement_data/8748.csv  \n",
            "  inflating: engagement_data/8784.csv  \n",
            "  inflating: engagement_data/8796.csv  \n",
            "  inflating: engagement_data/8815.csv  \n",
            "  inflating: engagement_data/8845.csv  \n",
            "  inflating: engagement_data/8884.csv  \n",
            "  inflating: engagement_data/8902.csv  \n",
            "  inflating: engagement_data/8937.csv  \n",
            "  inflating: engagement_data/9007.csv  \n",
            "  inflating: engagement_data/9043.csv  \n",
            "  inflating: engagement_data/9120.csv  \n",
            "  inflating: engagement_data/9140.csv  \n",
            "  inflating: engagement_data/9230.csv  \n",
            "  inflating: engagement_data/9303.csv  \n",
            "  inflating: engagement_data/9357.csv  \n",
            "  inflating: engagement_data/9463.csv  \n",
            "  inflating: engagement_data/9478.csv  \n",
            "  inflating: engagement_data/9515.csv  \n",
            "  inflating: engagement_data/9536.csv  \n",
            "  inflating: engagement_data/9537.csv  \n",
            "  inflating: engagement_data/9553.csv  \n",
            "  inflating: engagement_data/9589.csv  \n",
            "  inflating: engagement_data/9729.csv  \n",
            "  inflating: engagement_data/9778.csv  \n",
            "  inflating: engagement_data/9812.csv  \n",
            "  inflating: engagement_data/9839.csv  \n",
            "  inflating: engagement_data/9899.csv  \n",
            "  inflating: engagement_data/9927.csv  \n",
            "  inflating: products_info.csv       \n"
          ]
        }
      ]
    },
    {
      "cell_type": "code",
      "metadata": {
        "id": "I7rQj2MdMsIY"
      },
      "source": [
        "# get file name and assign to a new column district_id\n",
        "files = glob.glob(\"engagement_data/*.csv\")\n",
        "list_of_df = [pd.read_csv(file).assign(district_id=os.path.basename(file).strip(\".csv\")) for file in files] \n",
        "#list_of_df = [pd.read_csv(file) for file in files]"
      ],
      "execution_count": 30,
      "outputs": []
    },
    {
      "cell_type": "code",
      "metadata": {
        "id": "ZXFM3EycTjLH"
      },
      "source": [
        "engagement = pd.concat(list_of_df, ignore_index= True)"
      ],
      "execution_count": 31,
      "outputs": []
    },
    {
      "cell_type": "code",
      "metadata": {
        "id": "tY7F2DCITqqo"
      },
      "source": [
        "engagement.shape"
      ],
      "execution_count": null,
      "outputs": []
    },
    {
      "cell_type": "code",
      "metadata": {
        "id": "9p3RHQWZ9_Qp"
      },
      "source": [
        "engagement.head(5)"
      ],
      "execution_count": null,
      "outputs": []
    },
    {
      "cell_type": "code",
      "metadata": {
        "id": "90IgmicWVh9I"
      },
      "source": [
        "districts = pd.read_csv(\"districts_info.csv\")\n",
        "products = pd.read_csv(\"products_info.csv\")"
      ],
      "execution_count": 32,
      "outputs": []
    },
    {
      "cell_type": "code",
      "metadata": {
        "id": "4tFd-ysjz1w8"
      },
      "source": [
        "print(districts.shape)\n",
        "print(products.shape)"
      ],
      "execution_count": null,
      "outputs": []
    },
    {
      "cell_type": "code",
      "metadata": {
        "id": "hhpZmYRh07J_"
      },
      "source": [
        "districts.head(5)"
      ],
      "execution_count": null,
      "outputs": []
    },
    {
      "cell_type": "code",
      "metadata": {
        "id": "PbRrDhRE1LKt"
      },
      "source": [
        "products.head(5)"
      ],
      "execution_count": null,
      "outputs": []
    },
    {
      "cell_type": "markdown",
      "metadata": {
        "id": "NU4iDLsmA0bg"
      },
      "source": [
        "## Data cleaning and Preprocessing\n",
        "\n",
        "\n",
        "1.   Work with missing values\n",
        "2.   Get dummies sectors \n",
        "\n",
        "\n"
      ]
    },
    {
      "cell_type": "code",
      "metadata": {
        "id": "bs4V5H_HC3XK"
      },
      "source": [
        "print(districts.info())\n",
        "print(engagement.info())\n",
        "print(products.info())"
      ],
      "execution_count": null,
      "outputs": []
    },
    {
      "cell_type": "code",
      "metadata": {
        "id": "ixV199aKy2pm"
      },
      "source": [
        "#work with missing values in districts\n",
        "districts.isnull().sum()/len(districts)\n",
        "districts = districts[districts.state.notna()].reset_index(drop=True)"
      ],
      "execution_count": 33,
      "outputs": []
    },
    {
      "cell_type": "code",
      "metadata": {
        "id": "cBjW-lqQDXsy"
      },
      "source": [
        "# convert datetime type, district_id to int64 (same as districts)\n",
        "engagement['time'] = pd.to_datetime(engagement['time'])\n",
        "engagement['district_id']= engagement['district_id'].astype(str).astype(int)"
      ],
      "execution_count": 34,
      "outputs": []
    },
    {
      "cell_type": "code",
      "metadata": {
        "id": "Xn3p_l5SB8Il"
      },
      "source": [
        "# get dummies sector for products.\n",
        "sectors = products['Sector(s)'].str.get_dummies(sep=\"; \")\n",
        "sectors.columns = [f\"sector_{re.sub(' ', '', c)}\" for c in sectors.columns]\n",
        "products = products.join(sectors)\n",
        "products.drop(\"Sector(s)\", axis=1, inplace=True)\n",
        "\n",
        "del sectors"
      ],
      "execution_count": 35,
      "outputs": []
    },
    {
      "cell_type": "markdown",
      "metadata": {
        "id": "D3u4bhjlOL8J"
      },
      "source": [
        "## **Exploratory Data Analysis**"
      ]
    },
    {
      "cell_type": "markdown",
      "metadata": {
        "id": "BM4kp42bOXNB"
      },
      "source": [
        "### 1. Districts\n",
        "The district file districts_info.csv includes information about the characteristics of school districts, including data from NCES (2018-19), FCC (Dec 2018), and Edunomics Lab. In this data set, we removed the identifiable information about the school districts. We also used an open source tool ARX (Prasser et al. 2020) to transform several data fields and reduce the risks of re-identification. For data generalization purposes some data points are released with a range where the actual value falls under. Additionally, there are many missing data marked as 'NaN' indicating that the data was suppressed to maximize anonymization of the dataset.\n"
      ]
    },
    {
      "cell_type": "code",
      "metadata": {
        "id": "14VLPtLNOVkY"
      },
      "source": [
        "districts.tail(5)"
      ],
      "execution_count": null,
      "outputs": []
    },
    {
      "cell_type": "markdown",
      "metadata": {
        "id": "spCAVCgabD9Y"
      },
      "source": [
        "**Number of school districts per state**"
      ]
    },
    {
      "cell_type": "code",
      "metadata": {
        "colab": {
          "base_uri": "https://localhost:8080/",
          "height": 762
        },
        "id": "o40rx9c4bZT4",
        "outputId": "12d100bb-b12a-4245-ad7f-36f7f7823fc5"
      },
      "source": [
        "districts_by_state = districts['state'].value_counts().to_frame().reset_index(drop=False)\n",
        "districts_by_state.columns = ['state','count_districts']\n",
        "districts_by_state"
      ],
      "execution_count": 36,
      "outputs": [
        {
          "output_type": "execute_result",
          "data": {
            "text/html": [
              "<div>\n",
              "<style scoped>\n",
              "    .dataframe tbody tr th:only-of-type {\n",
              "        vertical-align: middle;\n",
              "    }\n",
              "\n",
              "    .dataframe tbody tr th {\n",
              "        vertical-align: top;\n",
              "    }\n",
              "\n",
              "    .dataframe thead th {\n",
              "        text-align: right;\n",
              "    }\n",
              "</style>\n",
              "<table border=\"1\" class=\"dataframe\">\n",
              "  <thead>\n",
              "    <tr style=\"text-align: right;\">\n",
              "      <th></th>\n",
              "      <th>state</th>\n",
              "      <th>count_districts</th>\n",
              "    </tr>\n",
              "  </thead>\n",
              "  <tbody>\n",
              "    <tr>\n",
              "      <th>0</th>\n",
              "      <td>Connecticut</td>\n",
              "      <td>30</td>\n",
              "    </tr>\n",
              "    <tr>\n",
              "      <th>1</th>\n",
              "      <td>Utah</td>\n",
              "      <td>29</td>\n",
              "    </tr>\n",
              "    <tr>\n",
              "      <th>2</th>\n",
              "      <td>Massachusetts</td>\n",
              "      <td>21</td>\n",
              "    </tr>\n",
              "    <tr>\n",
              "      <th>3</th>\n",
              "      <td>Illinois</td>\n",
              "      <td>18</td>\n",
              "    </tr>\n",
              "    <tr>\n",
              "      <th>4</th>\n",
              "      <td>California</td>\n",
              "      <td>12</td>\n",
              "    </tr>\n",
              "    <tr>\n",
              "      <th>5</th>\n",
              "      <td>Ohio</td>\n",
              "      <td>11</td>\n",
              "    </tr>\n",
              "    <tr>\n",
              "      <th>6</th>\n",
              "      <td>New York</td>\n",
              "      <td>8</td>\n",
              "    </tr>\n",
              "    <tr>\n",
              "      <th>7</th>\n",
              "      <td>Indiana</td>\n",
              "      <td>7</td>\n",
              "    </tr>\n",
              "    <tr>\n",
              "      <th>8</th>\n",
              "      <td>Washington</td>\n",
              "      <td>6</td>\n",
              "    </tr>\n",
              "    <tr>\n",
              "      <th>9</th>\n",
              "      <td>Missouri</td>\n",
              "      <td>6</td>\n",
              "    </tr>\n",
              "    <tr>\n",
              "      <th>10</th>\n",
              "      <td>Virginia</td>\n",
              "      <td>4</td>\n",
              "    </tr>\n",
              "    <tr>\n",
              "      <th>11</th>\n",
              "      <td>North Carolina</td>\n",
              "      <td>4</td>\n",
              "    </tr>\n",
              "    <tr>\n",
              "      <th>12</th>\n",
              "      <td>District Of Columbia</td>\n",
              "      <td>3</td>\n",
              "    </tr>\n",
              "    <tr>\n",
              "      <th>13</th>\n",
              "      <td>Wisconsin</td>\n",
              "      <td>3</td>\n",
              "    </tr>\n",
              "    <tr>\n",
              "      <th>14</th>\n",
              "      <td>New Jersey</td>\n",
              "      <td>2</td>\n",
              "    </tr>\n",
              "    <tr>\n",
              "      <th>15</th>\n",
              "      <td>Texas</td>\n",
              "      <td>2</td>\n",
              "    </tr>\n",
              "    <tr>\n",
              "      <th>16</th>\n",
              "      <td>Michigan</td>\n",
              "      <td>2</td>\n",
              "    </tr>\n",
              "    <tr>\n",
              "      <th>17</th>\n",
              "      <td>New Hampshire</td>\n",
              "      <td>2</td>\n",
              "    </tr>\n",
              "    <tr>\n",
              "      <th>18</th>\n",
              "      <td>Tennessee</td>\n",
              "      <td>2</td>\n",
              "    </tr>\n",
              "    <tr>\n",
              "      <th>19</th>\n",
              "      <td>Florida</td>\n",
              "      <td>1</td>\n",
              "    </tr>\n",
              "    <tr>\n",
              "      <th>20</th>\n",
              "      <td>North Dakota</td>\n",
              "      <td>1</td>\n",
              "    </tr>\n",
              "    <tr>\n",
              "      <th>21</th>\n",
              "      <td>Minnesota</td>\n",
              "      <td>1</td>\n",
              "    </tr>\n",
              "    <tr>\n",
              "      <th>22</th>\n",
              "      <td>Arizona</td>\n",
              "      <td>1</td>\n",
              "    </tr>\n",
              "  </tbody>\n",
              "</table>\n",
              "</div>"
            ],
            "text/plain": [
              "                   state  count_districts\n",
              "0            Connecticut               30\n",
              "1                   Utah               29\n",
              "2          Massachusetts               21\n",
              "3               Illinois               18\n",
              "4             California               12\n",
              "5                   Ohio               11\n",
              "6               New York                8\n",
              "7                Indiana                7\n",
              "8             Washington                6\n",
              "9               Missouri                6\n",
              "10              Virginia                4\n",
              "11        North Carolina                4\n",
              "12  District Of Columbia                3\n",
              "13             Wisconsin                3\n",
              "14            New Jersey                2\n",
              "15                 Texas                2\n",
              "16              Michigan                2\n",
              "17         New Hampshire                2\n",
              "18             Tennessee                2\n",
              "19               Florida                1\n",
              "20          North Dakota                1\n",
              "21             Minnesota                1\n",
              "22               Arizona                1"
            ]
          },
          "metadata": {},
          "execution_count": 36
        }
      ]
    },
    {
      "cell_type": "code",
      "metadata": {
        "colab": {
          "base_uri": "https://localhost:8080/",
          "height": 542
        },
        "id": "0fY0QcZ4jZ2Z",
        "outputId": "e2ea367a-ad6d-4980-cc66-474554ae204d"
      },
      "source": [
        "#using built-in United States Choropleth Map\n",
        "us_state = {\n",
        "    'Alabama': 'AL',\n",
        "    'Alaska': 'AK',\n",
        "    'American Samoa': 'AS',\n",
        "    'Arizona': 'AZ',\n",
        "    'Arkansas': 'AR',\n",
        "    'California': 'CA',\n",
        "    'Colorado': 'CO',\n",
        "    'Connecticut': 'CT',\n",
        "    'Delaware': 'DE',\n",
        "    'District Of Columbia': 'DC',\n",
        "    'Florida': 'FL',\n",
        "    'Georgia': 'GA',\n",
        "    'Guam': 'GU',\n",
        "    'Hawaii': 'HI',\n",
        "    'Idaho': 'ID',\n",
        "    'Illinois': 'IL',\n",
        "    'Indiana': 'IN',\n",
        "    'Iowa': 'IA',\n",
        "    'Kansas': 'KS',\n",
        "    'Kentucky': 'KY',\n",
        "    'Louisiana': 'LA',\n",
        "    'Maine': 'ME',\n",
        "    'Maryland': 'MD',\n",
        "    'Massachusetts': 'MA',\n",
        "    'Michigan': 'MI',\n",
        "    'Minnesota': 'MN',\n",
        "    'Mississippi': 'MS',\n",
        "    'Missouri': 'MO',\n",
        "    'Montana': 'MT',\n",
        "    'Nebraska': 'NE',\n",
        "    'Nevada': 'NV',\n",
        "    'New Hampshire': 'NH',\n",
        "    'New Jersey': 'NJ',\n",
        "    'New Mexico': 'NM',\n",
        "    'New York': 'NY',\n",
        "    'North Carolina': 'NC',\n",
        "    'North Dakota': 'ND',\n",
        "    'Northern Mariana Islands':'MP',\n",
        "    'Ohio': 'OH',\n",
        "    'Oklahoma': 'OK',\n",
        "    'Oregon': 'OR',\n",
        "    'Pennsylvania': 'PA',\n",
        "    'Puerto Rico': 'PR',\n",
        "    'Rhode Island': 'RI',\n",
        "    'South Carolina': 'SC',\n",
        "    'South Dakota': 'SD',\n",
        "    'Tennessee': 'TN',\n",
        "    'Texas': 'TX',\n",
        "    'Utah': 'UT',\n",
        "    'Vermont': 'VT',\n",
        "    'Virgin Islands': 'VI',\n",
        "    'Virginia': 'VA',\n",
        "    'Washington': 'WA',\n",
        "    'West Virginia': 'WV',\n",
        "    'Wisconsin': 'WI',\n",
        "    'Wyoming': 'WY'\n",
        "}\n",
        "districts_by_state['state_abbrev'] = districts_by_state['state'].replace(us_state) #https://stackoverflow.com/questions/40075106/replace-values-in-pandas-series-with-dictionary\n",
        "fig = go.Figure()\n",
        "layout = dict(\n",
        "    title_text = \"Number of School Districts per State\",\n",
        "    geo_scope='usa',\n",
        ")\n",
        "\n",
        "fig.add_trace(\n",
        "    go.Choropleth(\n",
        "        locations=districts_by_state.state_abbrev,\n",
        "        zmax=1,\n",
        "        z = districts_by_state.count_districts,\n",
        "        locationmode = 'USA-states',\n",
        "        marker_line_color='white',\n",
        "        geo='geo',\n",
        "        colorscale = 'Reds', \n",
        "    )\n",
        ")\n",
        "            \n",
        "fig.update_layout(layout)   \n",
        "fig.show()\n",
        "plt.show()\n"
      ],
      "execution_count": 50,
      "outputs": [
        {
          "output_type": "display_data",
          "data": {
            "text/html": [
              "<html>\n",
              "<head><meta charset=\"utf-8\" /></head>\n",
              "<body>\n",
              "    <div>\n",
              "            <script src=\"https://cdnjs.cloudflare.com/ajax/libs/mathjax/2.7.5/MathJax.js?config=TeX-AMS-MML_SVG\"></script><script type=\"text/javascript\">if (window.MathJax) {MathJax.Hub.Config({SVG: {font: \"STIX-Web\"}});}</script>\n",
              "                <script type=\"text/javascript\">window.PlotlyConfig = {MathJaxConfig: 'local'};</script>\n",
              "        <script src=\"https://cdn.plot.ly/plotly-latest.min.js\"></script>    \n",
              "            <div id=\"032c0303-893f-4115-9c9d-e854a681998f\" class=\"plotly-graph-div\" style=\"height:525px; width:100%;\"></div>\n",
              "            <script type=\"text/javascript\">\n",
              "                \n",
              "                    window.PLOTLYENV=window.PLOTLYENV || {};\n",
              "                    \n",
              "                if (document.getElementById(\"032c0303-893f-4115-9c9d-e854a681998f\")) {\n",
              "                    Plotly.newPlot(\n",
              "                        '032c0303-893f-4115-9c9d-e854a681998f',\n",
              "                        [{\"colorscale\": [[0.0, \"rgb(255,245,240)\"], [0.125, \"rgb(254,224,210)\"], [0.25, \"rgb(252,187,161)\"], [0.375, \"rgb(252,146,114)\"], [0.5, \"rgb(251,106,74)\"], [0.625, \"rgb(239,59,44)\"], [0.75, \"rgb(203,24,29)\"], [0.875, \"rgb(165,15,21)\"], [1.0, \"rgb(103,0,13)\"]], \"geo\": \"geo\", \"locationmode\": \"USA-states\", \"locations\": [\"CT\", \"UT\", \"MA\", \"IL\", \"CA\", \"OH\", \"NY\", \"IN\", \"WA\", \"MO\", \"VA\", \"NC\", \"DC\", \"WI\", \"NJ\", \"TX\", \"MI\", \"NH\", \"TN\", \"FL\", \"ND\", \"MN\", \"AZ\"], \"marker\": {\"line\": {\"color\": \"white\"}}, \"type\": \"choropleth\", \"z\": [30, 29, 21, 18, 12, 11, 8, 7, 6, 6, 4, 4, 3, 3, 2, 2, 2, 2, 2, 1, 1, 1, 1], \"zmax\": 1}],\n",
              "                        {\"geo\": {\"scope\": \"usa\"}, \"template\": {\"data\": {\"bar\": [{\"error_x\": {\"color\": \"#2a3f5f\"}, \"error_y\": {\"color\": \"#2a3f5f\"}, \"marker\": {\"line\": {\"color\": \"#E5ECF6\", \"width\": 0.5}}, \"type\": \"bar\"}], \"barpolar\": [{\"marker\": {\"line\": {\"color\": \"#E5ECF6\", \"width\": 0.5}}, \"type\": \"barpolar\"}], \"carpet\": [{\"aaxis\": {\"endlinecolor\": \"#2a3f5f\", \"gridcolor\": \"white\", \"linecolor\": \"white\", \"minorgridcolor\": \"white\", \"startlinecolor\": \"#2a3f5f\"}, \"baxis\": {\"endlinecolor\": \"#2a3f5f\", \"gridcolor\": \"white\", \"linecolor\": \"white\", \"minorgridcolor\": \"white\", \"startlinecolor\": \"#2a3f5f\"}, \"type\": \"carpet\"}], \"choropleth\": [{\"colorbar\": {\"outlinewidth\": 0, \"ticks\": \"\"}, \"type\": \"choropleth\"}], \"contour\": [{\"colorbar\": {\"outlinewidth\": 0, \"ticks\": \"\"}, \"colorscale\": [[0.0, \"#0d0887\"], [0.1111111111111111, \"#46039f\"], [0.2222222222222222, \"#7201a8\"], [0.3333333333333333, \"#9c179e\"], [0.4444444444444444, \"#bd3786\"], [0.5555555555555556, \"#d8576b\"], [0.6666666666666666, \"#ed7953\"], [0.7777777777777778, \"#fb9f3a\"], [0.8888888888888888, \"#fdca26\"], [1.0, \"#f0f921\"]], \"type\": \"contour\"}], \"contourcarpet\": [{\"colorbar\": {\"outlinewidth\": 0, \"ticks\": \"\"}, \"type\": \"contourcarpet\"}], \"heatmap\": [{\"colorbar\": {\"outlinewidth\": 0, \"ticks\": \"\"}, \"colorscale\": [[0.0, \"#0d0887\"], [0.1111111111111111, \"#46039f\"], [0.2222222222222222, \"#7201a8\"], [0.3333333333333333, \"#9c179e\"], [0.4444444444444444, \"#bd3786\"], [0.5555555555555556, \"#d8576b\"], [0.6666666666666666, \"#ed7953\"], [0.7777777777777778, \"#fb9f3a\"], [0.8888888888888888, \"#fdca26\"], [1.0, \"#f0f921\"]], \"type\": \"heatmap\"}], \"heatmapgl\": [{\"colorbar\": {\"outlinewidth\": 0, \"ticks\": \"\"}, \"colorscale\": [[0.0, \"#0d0887\"], [0.1111111111111111, \"#46039f\"], [0.2222222222222222, \"#7201a8\"], [0.3333333333333333, \"#9c179e\"], [0.4444444444444444, \"#bd3786\"], [0.5555555555555556, \"#d8576b\"], [0.6666666666666666, \"#ed7953\"], [0.7777777777777778, \"#fb9f3a\"], [0.8888888888888888, \"#fdca26\"], [1.0, \"#f0f921\"]], \"type\": \"heatmapgl\"}], \"histogram\": [{\"marker\": {\"colorbar\": {\"outlinewidth\": 0, \"ticks\": \"\"}}, \"type\": \"histogram\"}], \"histogram2d\": [{\"colorbar\": {\"outlinewidth\": 0, \"ticks\": \"\"}, \"colorscale\": [[0.0, \"#0d0887\"], [0.1111111111111111, \"#46039f\"], [0.2222222222222222, \"#7201a8\"], [0.3333333333333333, \"#9c179e\"], [0.4444444444444444, \"#bd3786\"], [0.5555555555555556, \"#d8576b\"], [0.6666666666666666, \"#ed7953\"], [0.7777777777777778, \"#fb9f3a\"], [0.8888888888888888, \"#fdca26\"], [1.0, \"#f0f921\"]], \"type\": \"histogram2d\"}], \"histogram2dcontour\": [{\"colorbar\": {\"outlinewidth\": 0, \"ticks\": \"\"}, \"colorscale\": [[0.0, \"#0d0887\"], [0.1111111111111111, \"#46039f\"], [0.2222222222222222, \"#7201a8\"], [0.3333333333333333, \"#9c179e\"], [0.4444444444444444, \"#bd3786\"], [0.5555555555555556, \"#d8576b\"], [0.6666666666666666, \"#ed7953\"], [0.7777777777777778, \"#fb9f3a\"], [0.8888888888888888, \"#fdca26\"], [1.0, \"#f0f921\"]], \"type\": \"histogram2dcontour\"}], \"mesh3d\": [{\"colorbar\": {\"outlinewidth\": 0, \"ticks\": \"\"}, \"type\": \"mesh3d\"}], \"parcoords\": [{\"line\": {\"colorbar\": {\"outlinewidth\": 0, \"ticks\": \"\"}}, \"type\": \"parcoords\"}], \"pie\": [{\"automargin\": true, \"type\": \"pie\"}], \"scatter\": [{\"marker\": {\"colorbar\": {\"outlinewidth\": 0, \"ticks\": \"\"}}, \"type\": \"scatter\"}], \"scatter3d\": [{\"line\": {\"colorbar\": {\"outlinewidth\": 0, \"ticks\": \"\"}}, \"marker\": {\"colorbar\": {\"outlinewidth\": 0, \"ticks\": \"\"}}, \"type\": \"scatter3d\"}], \"scattercarpet\": [{\"marker\": {\"colorbar\": {\"outlinewidth\": 0, \"ticks\": \"\"}}, \"type\": \"scattercarpet\"}], \"scattergeo\": [{\"marker\": {\"colorbar\": {\"outlinewidth\": 0, \"ticks\": \"\"}}, \"type\": \"scattergeo\"}], \"scattergl\": [{\"marker\": {\"colorbar\": {\"outlinewidth\": 0, \"ticks\": \"\"}}, \"type\": \"scattergl\"}], \"scattermapbox\": [{\"marker\": {\"colorbar\": {\"outlinewidth\": 0, \"ticks\": \"\"}}, \"type\": \"scattermapbox\"}], \"scatterpolar\": [{\"marker\": {\"colorbar\": {\"outlinewidth\": 0, \"ticks\": \"\"}}, \"type\": \"scatterpolar\"}], \"scatterpolargl\": [{\"marker\": {\"colorbar\": {\"outlinewidth\": 0, \"ticks\": \"\"}}, \"type\": \"scatterpolargl\"}], \"scatterternary\": [{\"marker\": {\"colorbar\": {\"outlinewidth\": 0, \"ticks\": \"\"}}, \"type\": \"scatterternary\"}], \"surface\": [{\"colorbar\": {\"outlinewidth\": 0, \"ticks\": \"\"}, \"colorscale\": [[0.0, \"#0d0887\"], [0.1111111111111111, \"#46039f\"], [0.2222222222222222, \"#7201a8\"], [0.3333333333333333, \"#9c179e\"], [0.4444444444444444, \"#bd3786\"], [0.5555555555555556, \"#d8576b\"], [0.6666666666666666, \"#ed7953\"], [0.7777777777777778, \"#fb9f3a\"], [0.8888888888888888, \"#fdca26\"], [1.0, \"#f0f921\"]], \"type\": \"surface\"}], \"table\": [{\"cells\": {\"fill\": {\"color\": \"#EBF0F8\"}, \"line\": {\"color\": \"white\"}}, \"header\": {\"fill\": {\"color\": \"#C8D4E3\"}, \"line\": {\"color\": \"white\"}}, \"type\": \"table\"}]}, \"layout\": {\"annotationdefaults\": {\"arrowcolor\": \"#2a3f5f\", \"arrowhead\": 0, \"arrowwidth\": 1}, \"coloraxis\": {\"colorbar\": {\"outlinewidth\": 0, \"ticks\": \"\"}}, \"colorscale\": {\"diverging\": [[0, \"#8e0152\"], [0.1, \"#c51b7d\"], [0.2, \"#de77ae\"], [0.3, \"#f1b6da\"], [0.4, \"#fde0ef\"], [0.5, \"#f7f7f7\"], [0.6, \"#e6f5d0\"], [0.7, \"#b8e186\"], [0.8, \"#7fbc41\"], [0.9, \"#4d9221\"], [1, \"#276419\"]], \"sequential\": [[0.0, \"#0d0887\"], [0.1111111111111111, \"#46039f\"], [0.2222222222222222, \"#7201a8\"], [0.3333333333333333, \"#9c179e\"], [0.4444444444444444, \"#bd3786\"], [0.5555555555555556, \"#d8576b\"], [0.6666666666666666, \"#ed7953\"], [0.7777777777777778, \"#fb9f3a\"], [0.8888888888888888, \"#fdca26\"], [1.0, \"#f0f921\"]], \"sequentialminus\": [[0.0, \"#0d0887\"], [0.1111111111111111, \"#46039f\"], [0.2222222222222222, \"#7201a8\"], [0.3333333333333333, \"#9c179e\"], [0.4444444444444444, \"#bd3786\"], [0.5555555555555556, \"#d8576b\"], [0.6666666666666666, \"#ed7953\"], [0.7777777777777778, \"#fb9f3a\"], [0.8888888888888888, \"#fdca26\"], [1.0, \"#f0f921\"]]}, \"colorway\": [\"#636efa\", \"#EF553B\", \"#00cc96\", \"#ab63fa\", \"#FFA15A\", \"#19d3f3\", \"#FF6692\", \"#B6E880\", \"#FF97FF\", \"#FECB52\"], \"font\": {\"color\": \"#2a3f5f\"}, \"geo\": {\"bgcolor\": \"white\", \"lakecolor\": \"white\", \"landcolor\": \"#E5ECF6\", \"showlakes\": true, \"showland\": true, \"subunitcolor\": \"white\"}, \"hoverlabel\": {\"align\": \"left\"}, \"hovermode\": \"closest\", \"mapbox\": {\"style\": \"light\"}, \"paper_bgcolor\": \"white\", \"plot_bgcolor\": \"#E5ECF6\", \"polar\": {\"angularaxis\": {\"gridcolor\": \"white\", \"linecolor\": \"white\", \"ticks\": \"\"}, \"bgcolor\": \"#E5ECF6\", \"radialaxis\": {\"gridcolor\": \"white\", \"linecolor\": \"white\", \"ticks\": \"\"}}, \"scene\": {\"xaxis\": {\"backgroundcolor\": \"#E5ECF6\", \"gridcolor\": \"white\", \"gridwidth\": 2, \"linecolor\": \"white\", \"showbackground\": true, \"ticks\": \"\", \"zerolinecolor\": \"white\"}, \"yaxis\": {\"backgroundcolor\": \"#E5ECF6\", \"gridcolor\": \"white\", \"gridwidth\": 2, \"linecolor\": \"white\", \"showbackground\": true, \"ticks\": \"\", \"zerolinecolor\": \"white\"}, \"zaxis\": {\"backgroundcolor\": \"#E5ECF6\", \"gridcolor\": \"white\", \"gridwidth\": 2, \"linecolor\": \"white\", \"showbackground\": true, \"ticks\": \"\", \"zerolinecolor\": \"white\"}}, \"shapedefaults\": {\"line\": {\"color\": \"#2a3f5f\"}}, \"ternary\": {\"aaxis\": {\"gridcolor\": \"white\", \"linecolor\": \"white\", \"ticks\": \"\"}, \"baxis\": {\"gridcolor\": \"white\", \"linecolor\": \"white\", \"ticks\": \"\"}, \"bgcolor\": \"#E5ECF6\", \"caxis\": {\"gridcolor\": \"white\", \"linecolor\": \"white\", \"ticks\": \"\"}}, \"title\": {\"x\": 0.05}, \"xaxis\": {\"automargin\": true, \"gridcolor\": \"white\", \"linecolor\": \"white\", \"ticks\": \"\", \"title\": {\"standoff\": 15}, \"zerolinecolor\": \"white\", \"zerolinewidth\": 2}, \"yaxis\": {\"automargin\": true, \"gridcolor\": \"white\", \"linecolor\": \"white\", \"ticks\": \"\", \"title\": {\"standoff\": 15}, \"zerolinecolor\": \"white\", \"zerolinewidth\": 2}}}, \"title\": {\"text\": \"Number of School Districts per State\"}},\n",
              "                        {\"responsive\": true}\n",
              "                    ).then(function(){\n",
              "                            \n",
              "var gd = document.getElementById('032c0303-893f-4115-9c9d-e854a681998f');\n",
              "var x = new MutationObserver(function (mutations, observer) {{\n",
              "        var display = window.getComputedStyle(gd).display;\n",
              "        if (!display || display === 'none') {{\n",
              "            console.log([gd, 'removed!']);\n",
              "            Plotly.purge(gd);\n",
              "            observer.disconnect();\n",
              "        }}\n",
              "}});\n",
              "\n",
              "// Listen for the removal of the full notebook cells\n",
              "var notebookContainer = gd.closest('#notebook-container');\n",
              "if (notebookContainer) {{\n",
              "    x.observe(notebookContainer, {childList: true});\n",
              "}}\n",
              "\n",
              "// Listen for the clearing of the current output cell\n",
              "var outputEl = gd.closest('.output');\n",
              "if (outputEl) {{\n",
              "    x.observe(outputEl, {childList: true});\n",
              "}}\n",
              "\n",
              "                        })\n",
              "                };\n",
              "                \n",
              "            </script>\n",
              "        </div>\n",
              "</body>\n",
              "</html>"
            ]
          },
          "metadata": {}
        }
      ]
    },
    {
      "cell_type": "markdown",
      "metadata": {
        "id": "ktM4xhZmoXCF"
      },
      "source": [
        " As you can see in above plot, the available data does not cover all the states in the U.S. (19/50). The states with the most available school districts are CT (30) and UT (29) while there are also states with only one school district (FL, TN, NY, AZ)."
      ]
    },
    {
      "cell_type": "markdown",
      "metadata": {
        "id": "xgv-sC6JhYkE"
      },
      "source": [
        "### **School districts and expenditure per locale**"
      ]
    },
    {
      "cell_type": "code",
      "metadata": {
        "id": "9jDdPgkdz-63"
      },
      "source": [
        "districts.pp_total_raw.unique()\n",
        "temp = districts.groupby('locale').pp_total_raw.value_counts().to_frame()\n",
        "temp.columns = ['amount']\n",
        "temp = temp.reset_index(drop=False)"
      ],
      "execution_count": 38,
      "outputs": []
    },
    {
      "cell_type": "code",
      "metadata": {
        "id": "T9Ie8WCgGvpp"
      },
      "source": [
        "temp = temp.pivot(index='locale', columns='pp_total_raw')['amount']"
      ],
      "execution_count": 39,
      "outputs": []
    },
    {
      "cell_type": "code",
      "metadata": {
        "colab": {
          "base_uri": "https://localhost:8080/",
          "height": 295
        },
        "id": "-YZ1VDO41PwX",
        "outputId": "5c878663-de64-47cb-c958-38ce840af215"
      },
      "source": [
        "sns.countplot(x=\"locale\", data=districts).set_title('Number of school per locale')\n",
        "plt.show()"
      ],
      "execution_count": 44,
      "outputs": [
        {
          "output_type": "display_data",
          "data": {
            "image/png": "[encoded data removed]",
            "text/plain": [
              "<Figure size 432x288 with 1 Axes>"
            ]
          },
          "metadata": {
            "needs_background": "light"
          }
        }
      ]
    },
    {
      "cell_type": "markdown",
      "metadata": {
        "id": "V7zeRI98XiF3"
      },
      "source": [
        "*Looking at the count plot, we can see suburb locale take up the highest number of avaiable school districts, followed by rural and city.*"
      ]
    },
    {
      "cell_type": "code",
      "metadata": {
        "id": "enD3JB-hiopc"
      },
      "source": [
        "temp = temp[['[4000, 6000[', '[6000, 8000[', '[8000, 10000[', '[10000, 12000[',\n",
        "       '[12000, 14000[', '[14000, 16000[', '[16000, 18000[', \n",
        "       '[18000, 20000[', '[20000, 22000[', '[22000, 24000[', ]]"
      ],
      "execution_count": 41,
      "outputs": []
    },
    {
      "cell_type": "code",
      "metadata": {
        "colab": {
          "base_uri": "https://localhost:8080/",
          "height": 204
        },
        "id": "UDmVMl1UiprO",
        "outputId": "6aee5c3a-9060-4928-f82e-c58902aaa3dc"
      },
      "source": [
        "temp"
      ],
      "execution_count": 42,
      "outputs": [
        {
          "output_type": "execute_result",
          "data": {
            "text/html": [
              "<div>\n",
              "<style scoped>\n",
              "    .dataframe tbody tr th:only-of-type {\n",
              "        vertical-align: middle;\n",
              "    }\n",
              "\n",
              "    .dataframe tbody tr th {\n",
              "        vertical-align: top;\n",
              "    }\n",
              "\n",
              "    .dataframe thead th {\n",
              "        text-align: right;\n",
              "    }\n",
              "</style>\n",
              "<table border=\"1\" class=\"dataframe\">\n",
              "  <thead>\n",
              "    <tr style=\"text-align: right;\">\n",
              "      <th>pp_total_raw</th>\n",
              "      <th>[4000, 6000[</th>\n",
              "      <th>[6000, 8000[</th>\n",
              "      <th>[8000, 10000[</th>\n",
              "      <th>[10000, 12000[</th>\n",
              "      <th>[12000, 14000[</th>\n",
              "      <th>[14000, 16000[</th>\n",
              "      <th>[16000, 18000[</th>\n",
              "      <th>[18000, 20000[</th>\n",
              "      <th>[20000, 22000[</th>\n",
              "      <th>[22000, 24000[</th>\n",
              "    </tr>\n",
              "    <tr>\n",
              "      <th>locale</th>\n",
              "      <th></th>\n",
              "      <th></th>\n",
              "      <th></th>\n",
              "      <th></th>\n",
              "      <th></th>\n",
              "      <th></th>\n",
              "      <th></th>\n",
              "      <th></th>\n",
              "      <th></th>\n",
              "      <th></th>\n",
              "    </tr>\n",
              "  </thead>\n",
              "  <tbody>\n",
              "    <tr>\n",
              "      <th>City</th>\n",
              "      <td>NaN</td>\n",
              "      <td>1.0</td>\n",
              "      <td>7.0</td>\n",
              "      <td>2.0</td>\n",
              "      <td>2.0</td>\n",
              "      <td>1.0</td>\n",
              "      <td>NaN</td>\n",
              "      <td>4.0</td>\n",
              "      <td>NaN</td>\n",
              "      <td>NaN</td>\n",
              "    </tr>\n",
              "    <tr>\n",
              "      <th>Rural</th>\n",
              "      <td>NaN</td>\n",
              "      <td>1.0</td>\n",
              "      <td>6.0</td>\n",
              "      <td>2.0</td>\n",
              "      <td>3.0</td>\n",
              "      <td>NaN</td>\n",
              "      <td>3.0</td>\n",
              "      <td>1.0</td>\n",
              "      <td>1.0</td>\n",
              "      <td>1.0</td>\n",
              "    </tr>\n",
              "    <tr>\n",
              "      <th>Suburb</th>\n",
              "      <td>2.0</td>\n",
              "      <td>11.0</td>\n",
              "      <td>12.0</td>\n",
              "      <td>9.0</td>\n",
              "      <td>10.0</td>\n",
              "      <td>14.0</td>\n",
              "      <td>10.0</td>\n",
              "      <td>3.0</td>\n",
              "      <td>1.0</td>\n",
              "      <td>1.0</td>\n",
              "    </tr>\n",
              "    <tr>\n",
              "      <th>Town</th>\n",
              "      <td>NaN</td>\n",
              "      <td>NaN</td>\n",
              "      <td>5.0</td>\n",
              "      <td>4.0</td>\n",
              "      <td>NaN</td>\n",
              "      <td>NaN</td>\n",
              "      <td>NaN</td>\n",
              "      <td>NaN</td>\n",
              "      <td>NaN</td>\n",
              "      <td>NaN</td>\n",
              "    </tr>\n",
              "  </tbody>\n",
              "</table>\n",
              "</div>"
            ],
            "text/plain": [
              "pp_total_raw  [4000, 6000[  [6000, 8000[  ...  [20000, 22000[  [22000, 24000[\n",
              "locale                                    ...                                \n",
              "City                   NaN           1.0  ...             NaN             NaN\n",
              "Rural                  NaN           1.0  ...             1.0             1.0\n",
              "Suburb                 2.0          11.0  ...             1.0             1.0\n",
              "Town                   NaN           NaN  ...             NaN             NaN\n",
              "\n",
              "[4 rows x 10 columns]"
            ]
          },
          "metadata": {},
          "execution_count": 42
        }
      ]
    },
    {
      "cell_type": "code",
      "metadata": {
        "colab": {
          "base_uri": "https://localhost:8080/",
          "height": 363
        },
        "id": "xhbTDrRpiqcC",
        "outputId": "adbbf399-ea10-4667-932e-2dc5bf3be513"
      },
      "source": [
        "sns.heatmap(temp, annot=True,  cmap='GnBu').set_title('Heatmap of Districts According To locale and pp_total_raw')\n",
        "plt.show()"
      ],
      "execution_count": 43,
      "outputs": [
        {
          "output_type": "display_data",
          "data": {
            "image/png": "[encoded data removed]",
            "text/plain": [
              "<Figure size 432x288 with 2 Axes>"
            ]
          },
          "metadata": {
            "needs_background": "light"
          }
        }
      ]
    },
    {
      "cell_type": "markdown",
      "metadata": {
        "id": "ca6YEjI7dObJ"
      },
      "source": [
        "*From the heatmap above, we reckon that the majority of school districts have more than $10000 expenditure per pupil regardless of the locales*"
      ]
    },
    {
      "cell_type": "code",
      "metadata": {
        "colab": {
          "base_uri": "https://localhost:8080/",
          "height": 419
        },
        "id": "fiUgGWH4e9Um",
        "outputId": "f0a63a51-e074-4edd-ddec-e460599ad6c4"
      },
      "source": [
        "districts"
      ],
      "execution_count": 45,
      "outputs": [
        {
          "output_type": "execute_result",
          "data": {
            "text/html": [
              "<div>\n",
              "<style scoped>\n",
              "    .dataframe tbody tr th:only-of-type {\n",
              "        vertical-align: middle;\n",
              "    }\n",
              "\n",
              "    .dataframe tbody tr th {\n",
              "        vertical-align: top;\n",
              "    }\n",
              "\n",
              "    .dataframe thead th {\n",
              "        text-align: right;\n",
              "    }\n",
              "</style>\n",
              "<table border=\"1\" class=\"dataframe\">\n",
              "  <thead>\n",
              "    <tr style=\"text-align: right;\">\n",
              "      <th></th>\n",
              "      <th>district_id</th>\n",
              "      <th>state</th>\n",
              "      <th>locale</th>\n",
              "      <th>pct_black/hispanic</th>\n",
              "      <th>pct_free/reduced</th>\n",
              "      <th>county_connections_ratio</th>\n",
              "      <th>pp_total_raw</th>\n",
              "    </tr>\n",
              "  </thead>\n",
              "  <tbody>\n",
              "    <tr>\n",
              "      <th>0</th>\n",
              "      <td>8815</td>\n",
              "      <td>Illinois</td>\n",
              "      <td>Suburb</td>\n",
              "      <td>[0, 0.2[</td>\n",
              "      <td>[0, 0.2[</td>\n",
              "      <td>[0.18, 1[</td>\n",
              "      <td>[14000, 16000[</td>\n",
              "    </tr>\n",
              "    <tr>\n",
              "      <th>1</th>\n",
              "      <td>4921</td>\n",
              "      <td>Utah</td>\n",
              "      <td>Suburb</td>\n",
              "      <td>[0, 0.2[</td>\n",
              "      <td>[0.2, 0.4[</td>\n",
              "      <td>[0.18, 1[</td>\n",
              "      <td>[6000, 8000[</td>\n",
              "    </tr>\n",
              "    <tr>\n",
              "      <th>2</th>\n",
              "      <td>5987</td>\n",
              "      <td>Wisconsin</td>\n",
              "      <td>Suburb</td>\n",
              "      <td>[0, 0.2[</td>\n",
              "      <td>[0, 0.2[</td>\n",
              "      <td>[0.18, 1[</td>\n",
              "      <td>[10000, 12000[</td>\n",
              "    </tr>\n",
              "    <tr>\n",
              "      <th>3</th>\n",
              "      <td>3710</td>\n",
              "      <td>Utah</td>\n",
              "      <td>Suburb</td>\n",
              "      <td>[0, 0.2[</td>\n",
              "      <td>[0.4, 0.6[</td>\n",
              "      <td>[0.18, 1[</td>\n",
              "      <td>[6000, 8000[</td>\n",
              "    </tr>\n",
              "    <tr>\n",
              "      <th>4</th>\n",
              "      <td>7177</td>\n",
              "      <td>North Carolina</td>\n",
              "      <td>Suburb</td>\n",
              "      <td>[0.2, 0.4[</td>\n",
              "      <td>[0.2, 0.4[</td>\n",
              "      <td>[0.18, 1[</td>\n",
              "      <td>[8000, 10000[</td>\n",
              "    </tr>\n",
              "    <tr>\n",
              "      <th>...</th>\n",
              "      <td>...</td>\n",
              "      <td>...</td>\n",
              "      <td>...</td>\n",
              "      <td>...</td>\n",
              "      <td>...</td>\n",
              "      <td>...</td>\n",
              "      <td>...</td>\n",
              "    </tr>\n",
              "    <tr>\n",
              "      <th>171</th>\n",
              "      <td>9515</td>\n",
              "      <td>New York</td>\n",
              "      <td>Rural</td>\n",
              "      <td>[0, 0.2[</td>\n",
              "      <td>[0.4, 0.6[</td>\n",
              "      <td>[0.18, 1[</td>\n",
              "      <td>[18000, 20000[</td>\n",
              "    </tr>\n",
              "    <tr>\n",
              "      <th>172</th>\n",
              "      <td>8103</td>\n",
              "      <td>Tennessee</td>\n",
              "      <td>Rural</td>\n",
              "      <td>[0.2, 0.4[</td>\n",
              "      <td>NaN</td>\n",
              "      <td>[0.18, 1[</td>\n",
              "      <td>[8000, 10000[</td>\n",
              "    </tr>\n",
              "    <tr>\n",
              "      <th>173</th>\n",
              "      <td>4929</td>\n",
              "      <td>Virginia</td>\n",
              "      <td>Rural</td>\n",
              "      <td>[0, 0.2[</td>\n",
              "      <td>[0.4, 0.6[</td>\n",
              "      <td>[0.18, 1[</td>\n",
              "      <td>[12000, 14000[</td>\n",
              "    </tr>\n",
              "    <tr>\n",
              "      <th>174</th>\n",
              "      <td>7975</td>\n",
              "      <td>California</td>\n",
              "      <td>City</td>\n",
              "      <td>[0.6, 0.8[</td>\n",
              "      <td>[0.6, 0.8[</td>\n",
              "      <td>[0.18, 1[</td>\n",
              "      <td>NaN</td>\n",
              "    </tr>\n",
              "    <tr>\n",
              "      <th>175</th>\n",
              "      <td>7164</td>\n",
              "      <td>California</td>\n",
              "      <td>City</td>\n",
              "      <td>[0.6, 0.8[</td>\n",
              "      <td>[0.6, 0.8[</td>\n",
              "      <td>[0.18, 1[</td>\n",
              "      <td>NaN</td>\n",
              "    </tr>\n",
              "  </tbody>\n",
              "</table>\n",
              "<p>176 rows × 7 columns</p>\n",
              "</div>"
            ],
            "text/plain": [
              "     district_id           state  ... county_connections_ratio    pp_total_raw\n",
              "0           8815        Illinois  ...                [0.18, 1[  [14000, 16000[\n",
              "1           4921            Utah  ...                [0.18, 1[    [6000, 8000[\n",
              "2           5987       Wisconsin  ...                [0.18, 1[  [10000, 12000[\n",
              "3           3710            Utah  ...                [0.18, 1[    [6000, 8000[\n",
              "4           7177  North Carolina  ...                [0.18, 1[   [8000, 10000[\n",
              "..           ...             ...  ...                      ...             ...\n",
              "171         9515        New York  ...                [0.18, 1[  [18000, 20000[\n",
              "172         8103       Tennessee  ...                [0.18, 1[   [8000, 10000[\n",
              "173         4929        Virginia  ...                [0.18, 1[  [12000, 14000[\n",
              "174         7975      California  ...                [0.18, 1[             NaN\n",
              "175         7164      California  ...                [0.18, 1[             NaN\n",
              "\n",
              "[176 rows x 7 columns]"
            ]
          },
          "metadata": {},
          "execution_count": 45
        }
      ]
    },
    {
      "cell_type": "markdown",
      "metadata": {
        "id": "dEEHPSiEl8gF"
      },
      "source": [
        "If we look at the distributions of the remaining columns in districts, you can quickly see that county_connections_ratio only has one unique value which is [0.18, 1[. To be fair, before dropping all rows without any state information, this column had another value of [1, 2[ but only for one data point. So, this column does not really contain any valuable information. Maybe we can get this sort of information from an external dataset"
      ]
    },
    {
      "cell_type": "code",
      "metadata": {
        "colab": {
          "base_uri": "https://localhost:8080/"
        },
        "id": "TOqE-9V1hKrC",
        "outputId": "5cbe3c67-4e4d-43ca-9439-dc1d917540d5"
      },
      "source": [
        "districts['county_connections_ratio'].unique()"
      ],
      "execution_count": 47,
      "outputs": [
        {
          "output_type": "execute_result",
          "data": {
            "text/plain": [
              "array(['[0.18, 1[', nan, '[1, 2['], dtype=object)"
            ]
          },
          "metadata": {},
          "execution_count": 47
        }
      ]
    },
    {
      "cell_type": "code",
      "metadata": {
        "id": "h7yUVTuHlJek"
      },
      "source": [
        ""
      ],
      "execution_count": null,
      "outputs": []
    }
  ]
}